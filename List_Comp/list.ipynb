{
 "cells": [
  {
   "cell_type": "code",
   "execution_count": 2,
   "metadata": {
    "cell_style": "center"
   },
   "outputs": [
    {
     "data": {
      "text/plain": [
       "[['Bassett',\n",
       "  'Richard',\n",
       "  '1745-04-02',\n",
       "  'M',\n",
       "  'sen',\n",
       "  'DE',\n",
       "  'Anti-Administration',\n",
       "  1745],\n",
       " ['Bland', 'Theodorick', '1742-03-21', 'M', 'rep', 'VA', '', 1742],\n",
       " ['Burke', 'Aedanus', '1743-06-16', 'M', 'rep', 'SC', '', 1743],\n",
       " ['Carroll', 'Daniel', '1730-07-22', 'M', 'rep', 'MD', '', 1730],\n",
       " ['Clymer', 'George', '1739-03-16', 'M', 'rep', 'PA', '', 1739],\n",
       " ['Contee', 'Benjamin', '', 'M', 'rep', 'MD', '', 1739],\n",
       " ['Dalton',\n",
       "  'Tristram',\n",
       "  '1738-05-28',\n",
       "  'M',\n",
       "  'sen',\n",
       "  'MA',\n",
       "  'Pro-Administration',\n",
       "  1738],\n",
       " ['Elmer',\n",
       "  'Jonathan',\n",
       "  '1745-11-29',\n",
       "  'M',\n",
       "  'sen',\n",
       "  'NJ',\n",
       "  'Pro-Administration',\n",
       "  1745],\n",
       " ['Few',\n",
       "  'William',\n",
       "  '1748-06-08',\n",
       "  'M',\n",
       "  'sen',\n",
       "  'GA',\n",
       "  'Anti-Administration',\n",
       "  1748],\n",
       " ['Floyd', 'William', '1734-12-17', 'M', 'rep', 'NY', '', 1734],\n",
       " ['Gale', 'George', '1756-06-03', 'M', 'rep', 'MD', '', 1756],\n",
       " ['Grayson', 'William', '', 'M', 'sen', 'VA', 'Anti-Administration', 1756],\n",
       " ['Grout', 'Jonathan', '1737-07-23', 'M', 'rep', 'MA', '', 1737],\n",
       " ['Hawkins',\n",
       "  'Benjamin',\n",
       "  '1754-08-15',\n",
       "  'M',\n",
       "  'sen',\n",
       "  'NC',\n",
       "  'Pro-Administration',\n",
       "  1754],\n",
       " ['Huntington', 'Benjamin', '1736-04-19', 'M', 'rep', 'CT', '', 1736],\n",
       " ['Izard', 'Ralph', '', 'M', 'sen', 'SC', 'Pro-Administration', 1736],\n",
       " ['Johnson',\n",
       "  'William',\n",
       "  '1727-10-07',\n",
       "  'M',\n",
       "  'sen',\n",
       "  'CT',\n",
       "  'Pro-Administration',\n",
       "  1727],\n",
       " ['Johnston',\n",
       "  'Samuel',\n",
       "  '1733-12-15',\n",
       "  'M',\n",
       "  'sen',\n",
       "  'NC',\n",
       "  'Pro-Administration',\n",
       "  1733],\n",
       " ['Lee',\n",
       "  'Richard',\n",
       "  '1732-01-20',\n",
       "  'M',\n",
       "  'sen',\n",
       "  'VA',\n",
       "  'Anti-Administration',\n",
       "  1732],\n",
       " ['Maclay',\n",
       "  'William',\n",
       "  '1737-07-20',\n",
       "  'M',\n",
       "  'sen',\n",
       "  'PA',\n",
       "  'Anti-Administration',\n",
       "  1737],\n",
       " ['Mathews', 'George', '1739-08-30', 'M', 'rep', 'GA', '', 1739],\n",
       " ['Morris',\n",
       "  'Robert',\n",
       "  '1734-01-20',\n",
       "  'M',\n",
       "  'sen',\n",
       "  'PA',\n",
       "  'Pro-Administration',\n",
       "  1734],\n",
       " ['Partridge', 'George', '1740-02-08', 'M', 'rep', 'MA', '', 1740],\n",
       " ['Paterson',\n",
       "  'William',\n",
       "  '1745-12-24',\n",
       "  'M',\n",
       "  'sen',\n",
       "  'NJ',\n",
       "  'Pro-Administration',\n",
       "  1745],\n",
       " ['Smith', 'William', '1728-04-12', 'M', 'rep', 'MD', '', 1728],\n",
       " ['Stone', 'Michael', '', 'M', 'rep', 'MD', '', 1728],\n",
       " ['Van Rensselaer', 'Jeremiah', '1738-08-27', 'M', 'rep', 'NY', '', 1738],\n",
       " ['Wynkoop', 'Henry', '1737-03-02', 'M', 'rep', 'PA', '', 1737],\n",
       " ['Dickinson',\n",
       "  'Philemon',\n",
       "  '1739-04-05',\n",
       "  'M',\n",
       "  'sen',\n",
       "  'NJ',\n",
       "  'Pro-Administration',\n",
       "  1739],\n",
       " ['Walker',\n",
       "  'John',\n",
       "  '1744-02-13',\n",
       "  'M',\n",
       "  'sen',\n",
       "  'VA',\n",
       "  'Pro-Administration',\n",
       "  1744],\n",
       " ['Ashe', 'John', '', 'M', 'rep', 'NC', '', 1744],\n",
       " ['Barnwell', 'Robert', '1761-12-21', 'M', 'rep', 'SC', '', 1761],\n",
       " ['Burr', 'Aaron', '1756-02-06', 'M', 'sen', 'NY', 'Republican', 1756],\n",
       " ['Cabot', 'George', '1752-12-03', 'M', 'sen', 'MA', 'Federalist', 1752],\n",
       " ['Carroll', 'Charles', '1737-09-19', 'M', 'sen', 'MD', '', 1737],\n",
       " ['Ellsworth', 'Oliver', '1745-04-29', 'M', 'sen', 'CT', 'Federalist', 1745],\n",
       " ['Gerry', 'Elbridge', '1744-07-17', 'M', 'rep', 'MA', '', 1744],\n",
       " ['Huger', 'Daniel', '1742-02-20', 'M', 'rep', 'SC', '', 1742],\n",
       " ['Jacobs', 'Israel', '1726-06-09', 'M', 'rep', 'PA', '', 1726],\n",
       " ['Key', 'Philip', '', 'M', 'rep', 'MD', '', 1726],\n",
       " ['Read', 'George', '1733-09-18', 'M', 'sen', 'DE', '', 1733],\n",
       " ['Robinson',\n",
       "  'Moses',\n",
       "  '1741-03-22',\n",
       "  'M',\n",
       "  'sen',\n",
       "  'VT',\n",
       "  'Anti-Administration',\n",
       "  1741],\n",
       " ['Schoonmaker', 'Cornelius', '', 'M', 'rep', 'NY', '', 1741],\n",
       " ['Seney', 'Joshua', '1756-03-04', 'M', 'rep', 'MD', '', 1756],\n",
       " ['Sheredine', 'Upton', '', 'M', 'rep', 'MD', '', 1756],\n",
       " ['Sherman',\n",
       "  'Roger',\n",
       "  '1721-04-19',\n",
       "  'M',\n",
       "  'sen',\n",
       "  'CT',\n",
       "  'Pro-Administration',\n",
       "  1721],\n",
       " ['Silvester', 'Peter', '', 'M', 'rep', 'NY', '', 1721],\n",
       " ['Steele', 'John', '1764-11-16', 'M', 'rep', 'NC', '', 1764],\n",
       " ['Sterett', 'Samuel', '', 'M', 'rep', 'MD', '', 1764],\n",
       " ['Sturges', 'Jonathan', '1740-08-23', 'M', 'rep', 'CT', '', 1740],\n",
       " ['Tucker', 'Thomas', '1745-06-25', 'M', 'rep', 'SC', '', 1745],\n",
       " ['Wayne', 'Anthony', '1745-01-01', 'M', 'rep', 'GA', '', 1745],\n",
       " ['White', 'Alexander', '', 'M', 'rep', 'VA', '', 1745]]"
      ]
     },
     "execution_count": 2,
     "metadata": {},
     "output_type": "execute_result"
    }
   ],
   "source": [
    "a1=[['Bassett', 'Richard', '1745-04-02', 'M', 'sen', 'DE', 'Anti-Administration', 1745], \n",
    "    ['Bland', 'Theodorick', '1742-03-21', 'M', 'rep', 'VA', '', 1742], \n",
    "    ['Burke', 'Aedanus', '1743-06-16', 'M', 'rep', 'SC', '', 1743], \n",
    "    ['Carroll', 'Daniel', '1730-07-22', 'M', 'rep', 'MD', '', 1730], \n",
    "    ['Clymer', 'George', '1739-03-16', 'M', 'rep', 'PA', '', 1739], \n",
    "    ['Contee', 'Benjamin', '', 'M', 'rep', 'MD', '', 1739],\n",
    "    ['Dalton', 'Tristram', '1738-05-28', 'M', 'sen', 'MA', 'Pro-Administration', 1738], \n",
    "    ['Elmer', 'Jonathan', '1745-11-29', 'M', 'sen', 'NJ', 'Pro-Administration', 1745], \n",
    "    ['Few', 'William', '1748-06-08', 'M', 'sen', 'GA', 'Anti-Administration', 1748], \n",
    "    ['Floyd', 'William', '1734-12-17', 'M', 'rep', 'NY', '', 1734], \n",
    "    ['Gale', 'George', '1756-06-03', 'M', 'rep', 'MD', '', 1756], \n",
    "    ['Grayson', 'William', '', 'M', 'sen', 'VA', 'Anti-Administration', 1756], \n",
    "    ['Grout', 'Jonathan', '1737-07-23', 'M', 'rep', 'MA', '', 1737], \n",
    "    ['Hawkins', 'Benjamin', '1754-08-15', 'M', 'sen', 'NC', 'Pro-Administration', 1754], \n",
    "    ['Huntington', 'Benjamin', '1736-04-19', 'M', 'rep', 'CT', '', 1736], \n",
    "    ['Izard', 'Ralph', '', 'M', 'sen', 'SC', 'Pro-Administration', 1736], \n",
    "    ['Johnson', 'William', '1727-10-07', 'M', 'sen', 'CT', 'Pro-Administration', 1727], \n",
    "    ['Johnston', 'Samuel', '1733-12-15', 'M', 'sen', 'NC', 'Pro-Administration', 1733], \n",
    "    ['Lee', 'Richard', '1732-01-20', 'M', 'sen', 'VA', 'Anti-Administration', 1732], \n",
    "    ['Maclay', 'William', '1737-07-20', 'M', 'sen', 'PA', 'Anti-Administration', 1737], \n",
    "    ['Mathews', 'George', '1739-08-30', 'M', 'rep', 'GA', '', 1739], \n",
    "    ['Morris', 'Robert', '1734-01-20', 'M', 'sen', 'PA', 'Pro-Administration', 1734], \n",
    "    ['Partridge', 'George', '1740-02-08', 'M', 'rep', 'MA', '', 1740], \n",
    "    ['Paterson', 'William', '1745-12-24', 'M', 'sen', 'NJ', 'Pro-Administration', 1745], \n",
    "    ['Smith', 'William', '1728-04-12', 'M', 'rep', 'MD', '', 1728], \n",
    "    ['Stone', 'Michael', '', 'M', 'rep', 'MD', '', 1728], \n",
    "    ['Van Rensselaer', 'Jeremiah', '1738-08-27', 'M', 'rep', 'NY', '', 1738], \n",
    "    ['Wynkoop', 'Henry', '1737-03-02', 'M', 'rep', 'PA', '', 1737], \n",
    "    ['Dickinson', 'Philemon', '1739-04-05', 'M', 'sen', 'NJ', 'Pro-Administration', 1739], \n",
    "    ['Walker', 'John', '1744-02-13', 'M', 'sen', 'VA', 'Pro-Administration', 1744], \n",
    "    ['Ashe', 'John', '', 'M', 'rep', 'NC', '', 1744], \n",
    "    ['Barnwell', 'Robert', '1761-12-21', 'M', 'rep', 'SC', '', 1761], \n",
    "    ['Burr', 'Aaron', '1756-02-06', 'M', 'sen', 'NY', 'Republican', 1756], \n",
    "    ['Cabot', 'George', '1752-12-03', 'M', 'sen', 'MA', 'Federalist', 1752], \n",
    "    ['Carroll', 'Charles', '1737-09-19', 'M', 'sen', 'MD', '', 1737], \n",
    "    ['Ellsworth', 'Oliver', '1745-04-29', 'M', 'sen', 'CT', 'Federalist', 1745], \n",
    "    ['Gerry', 'Elbridge', '1744-07-17', 'M', 'rep', 'MA', '', 1744], \n",
    "    ['Huger', 'Daniel', '1742-02-20', 'M', 'rep', 'SC', '', 1742], \n",
    "    ['Jacobs', 'Israel', '1726-06-09', 'M', 'rep', 'PA', '', 1726], \n",
    "    ['Key', 'Philip', '', 'M', 'rep', 'MD', '', 1726], \n",
    "    ['Read', 'George', '1733-09-18', 'M', 'sen', 'DE', '', 1733], \n",
    "    ['Robinson', 'Moses', '1741-03-22', 'M', 'sen', 'VT', 'Anti-Administration', 1741], \n",
    "    ['Schoonmaker', 'Cornelius', '', 'M', 'rep', 'NY', '', 1741], \n",
    "    ['Seney', 'Joshua', '1756-03-04', 'M', 'rep', 'MD', '', 1756], \n",
    "    ['Sheredine', 'Upton', '', 'M', 'rep', 'MD', '', 1756], \n",
    "    ['Sherman', 'Roger', '1721-04-19', 'M', 'sen', 'CT', 'Pro-Administration', 1721], \n",
    "    ['Silvester', 'Peter', '', 'M', 'rep', 'NY', '', 1721], \n",
    "    ['Steele', 'John', '1764-11-16', 'M', 'rep', 'NC', '', 1764], \n",
    "    ['Sterett', 'Samuel', '', 'M', 'rep', 'MD', '', 1764], \n",
    "    ['Sturges', 'Jonathan', '1740-08-23', 'M', 'rep', 'CT', '', 1740], \n",
    "    ['Tucker', 'Thomas', '1745-06-25', 'M', 'rep', 'SC', '', 1745], \n",
    "    ['Wayne', 'Anthony', '1745-01-01', 'M', 'rep', 'GA', '', 1745], \n",
    "    ['White', 'Alexander', '', 'M', 'rep', 'VA', '', 1745]]\n",
    "\n",
    "last_value=1\n",
    "for i in a1:\n",
    "    if i[7]==0:\n",
    "        i[7]=last_value\n",
    "    last_value=i[7]\n",
    "a1"
   ]
  },
  {
   "cell_type": "code",
   "execution_count": 11,
   "metadata": {},
   "outputs": [
    {
     "name": "stdout",
     "output_type": "stream",
     "text": [
      "['apple', 'monkey', 'cedar']\n",
      "['orange', 'dog', 'maple']\n",
      "['banana', 'cat', 'fig']\n"
     ]
    }
   ],
   "source": [
    "'''\n",
    "- Create a variable called last_value, and set it to 1.\n",
    "- Loop through each row in legislators.\n",
    "- If the year column (index 7) equals 0, replace it with last_value.\n",
    "- Assign the value of the year column (index 7) to last_value.\n",
    "After the code runs, each row previously containing 0 for birth_year column will now instead have the previous row's value for the same column.\n",
    "'''\n",
    "\n",
    "things = [[\"apple\", \"monkey\"], \n",
    "          [\"orange\", \"dog\"], \n",
    "          [\"banana\", \"cat\"]]\n",
    "\n",
    "trees = [\"cedar\", \"maple\", \"fig\"]\n",
    "\n",
    "for i,v in enumerate(things):\n",
    "    v.append(trees[i])\n",
    "    print (v)"
   ]
  },
  {
   "cell_type": "code",
   "execution_count": 12,
   "metadata": {},
   "outputs": [
    {
     "name": "stdout",
     "output_type": "stream",
     "text": [
      "[3, 5, 9, 3, 5]\n"
     ]
    }
   ],
   "source": [
    "animals = [\"Dog\", \"Tiger\", \"SuperLion\", \"Cow\", \"Panda\"]\n",
    "\n",
    "animal_lengths = []\n",
    "for animal in animals:\n",
    "    animal_lengths.append(len(animal))\n",
    "print(animal_lengths)"
   ]
  },
  {
   "cell_type": "code",
   "execution_count": 13,
   "metadata": {},
   "outputs": [
    {
     "name": "stdout",
     "output_type": "stream",
     "text": [
      "[200, 202, 204, 210]\n",
      "[0, 1, 2, 5]\n"
     ]
    }
   ],
   "source": [
    "apple_prices = [100, 101, 102, 105]\n",
    "apple_prices_doubled=[]\n",
    "apple_prices_lowered=[]\n",
    "\n",
    "for i in apple_prices:\n",
    "    apple_prices_doubled.append(i*2)\n",
    "    apple_prices_lowered.append(i-100)\n",
    "\n",
    "print(apple_prices_doubled)\n",
    "print(apple_prices_lowered)"
   ]
  },
  {
   "cell_type": "code",
   "execution_count": 14,
   "metadata": {},
   "outputs": [
    {
     "data": {
      "text/plain": [
       "{'Aaron': 1,\n",
       " 'Benjamin': 1,\n",
       " 'George': 2,\n",
       " 'John': 1,\n",
       " 'Joshua': 1,\n",
       " 'Robert': 1,\n",
       " 'Samuel': 1,\n",
       " 'Upton': 1,\n",
       " 'William': 1}"
      ]
     },
     "execution_count": 14,
     "metadata": {},
     "output_type": "execute_result"
    }
   ],
   "source": [
    "name_counts={}\n",
    "for i in a1:\n",
    "    gender=i[3]\n",
    "    year=i[7]\n",
    "    if gender==\"M\" and year>1750:\n",
    "        name = i[1]\n",
    "        if name in name_counts:\n",
    "            name_counts[name]=name_counts[name]+1\n",
    "        else:\n",
    "            name_counts[name]=1\n",
    "name_counts"
   ]
  },
  {
   "cell_type": "code",
   "execution_count": 15,
   "metadata": {},
   "outputs": [
    {
     "data": {
      "text/plain": [
       "100"
      ]
     },
     "execution_count": 15,
     "metadata": {},
     "output_type": "execute_result"
    }
   ],
   "source": [
    "values = [50, 80, 100]\n",
    "max_value = 0\n",
    "for i in values:\n",
    "    if i > max_value:\n",
    "        max_value = i\n",
    "max_value"
   ]
  },
  {
   "cell_type": "code",
   "execution_count": 17,
   "metadata": {},
   "outputs": [
    {
     "data": {
      "text/plain": [
       "-50"
      ]
     },
     "execution_count": 17,
     "metadata": {},
     "output_type": "execute_result"
    }
   ],
   "source": [
    "values = [-50, -80, -100]\n",
    "max_value = None\n",
    "for i in values:\n",
    "    if max_value is None or i > max_value:\n",
    "        max_value = i\n",
    "max_value"
   ]
  },
  {
   "cell_type": "code",
   "execution_count": 16,
   "metadata": {},
   "outputs": [
    {
     "data": {
      "text/plain": [
       "[False, False, False, False, False, True]"
      ]
     },
     "execution_count": 16,
     "metadata": {},
     "output_type": "execute_result"
    }
   ],
   "source": [
    "values = [None, 10, 20, 30, None, 50]\n",
    "checks = []\n",
    "[x is not None and x>30 for x in values]"
   ]
  },
  {
   "cell_type": "code",
   "execution_count": 19,
   "metadata": {},
   "outputs": [
    {
     "data": {
      "text/html": [
       "<div>\n",
       "<style scoped>\n",
       "    .dataframe tbody tr th:only-of-type {\n",
       "        vertical-align: middle;\n",
       "    }\n",
       "\n",
       "    .dataframe tbody tr th {\n",
       "        vertical-align: top;\n",
       "    }\n",
       "\n",
       "    .dataframe thead th {\n",
       "        text-align: right;\n",
       "    }\n",
       "</style>\n",
       "<table border=\"1\" class=\"dataframe\">\n",
       "  <thead>\n",
       "    <tr style=\"text-align: right;\">\n",
       "      <th></th>\n",
       "      <th>name</th>\n",
       "      <th>team</th>\n",
       "      <th>games</th>\n",
       "      <th>category</th>\n",
       "      <th>desc.</th>\n",
       "      <th>year</th>\n",
       "      <th>source</th>\n",
       "    </tr>\n",
       "  </thead>\n",
       "  <tbody>\n",
       "    <tr>\n",
       "      <th>264</th>\n",
       "      <td>T. Hali</td>\n",
       "      <td>KC</td>\n",
       "      <td>1</td>\n",
       "      <td>Substance abuse</td>\n",
       "      <td>NaN</td>\n",
       "      <td>2012</td>\n",
       "      <td>http://espn.go.com/nfl/trainingcamp12/story/_/...</td>\n",
       "    </tr>\n",
       "    <tr>\n",
       "      <th>265</th>\n",
       "      <td>I. Pead</td>\n",
       "      <td>STL</td>\n",
       "      <td>1</td>\n",
       "      <td>Substance abuse</td>\n",
       "      <td>Marijuana-related</td>\n",
       "      <td>2013</td>\n",
       "      <td>http://www.nfl.com/news/story/0ap1000000208343...</td>\n",
       "    </tr>\n",
       "    <tr>\n",
       "      <th>266</th>\n",
       "      <td>D. Reed</td>\n",
       "      <td>BAL</td>\n",
       "      <td>1</td>\n",
       "      <td>Substance abuse</td>\n",
       "      <td>Marijuana-related</td>\n",
       "      <td>2011</td>\n",
       "      <td>http://www.nfl.com/news/story/09000d5d821eb87b...</td>\n",
       "    </tr>\n",
       "    <tr>\n",
       "      <th>267</th>\n",
       "      <td>L. Wilson</td>\n",
       "      <td>NO</td>\n",
       "      <td>1</td>\n",
       "      <td>Substance abuse</td>\n",
       "      <td>Marijuana-related</td>\n",
       "      <td>2012</td>\n",
       "      <td>http://profootballtalk.nbcsports.com/2012/07/0...</td>\n",
       "    </tr>\n",
       "    <tr>\n",
       "      <th>268</th>\n",
       "      <td>D. Scott</td>\n",
       "      <td>MIN</td>\n",
       "      <td>3</td>\n",
       "      <td>Personal conduct</td>\n",
       "      <td>Child endangerment</td>\n",
       "      <td>2008</td>\n",
       "      <td>http://sports.espn.go.com/nfl/news/story?id=34...</td>\n",
       "    </tr>\n",
       "  </tbody>\n",
       "</table>\n",
       "</div>"
      ],
      "text/plain": [
       "          name team games          category               desc.  year  \\\n",
       "264    T. Hali   KC     1   Substance abuse                 NaN  2012   \n",
       "265    I. Pead  STL     1   Substance abuse   Marijuana-related  2013   \n",
       "266    D. Reed  BAL     1   Substance abuse   Marijuana-related  2011   \n",
       "267  L. Wilson   NO     1   Substance abuse   Marijuana-related  2012   \n",
       "268   D. Scott  MIN     3  Personal conduct  Child endangerment  2008   \n",
       "\n",
       "                                                source  \n",
       "264  http://espn.go.com/nfl/trainingcamp12/story/_/...  \n",
       "265  http://www.nfl.com/news/story/0ap1000000208343...  \n",
       "266  http://www.nfl.com/news/story/09000d5d821eb87b...  \n",
       "267  http://profootballtalk.nbcsports.com/2012/07/0...  \n",
       "268  http://sports.espn.go.com/nfl/news/story?id=34...  "
      ]
     },
     "execution_count": 19,
     "metadata": {},
     "output_type": "execute_result"
    }
   ],
   "source": [
    "import pandas as pd\n",
    "df1 = pd.read_csv('/home/paperspace/data/kaggle/nfl-suspensions-data.csv')\n",
    "\n",
    "df1.describe()\n",
    "df1.head()\n",
    "df1.tail()"
   ]
  },
  {
   "cell_type": "code",
   "execution_count": 21,
   "metadata": {},
   "outputs": [
    {
     "data": {
      "text/html": [
       "<div>\n",
       "<style scoped>\n",
       "    .dataframe tbody tr th:only-of-type {\n",
       "        vertical-align: middle;\n",
       "    }\n",
       "\n",
       "    .dataframe tbody tr th {\n",
       "        vertical-align: top;\n",
       "    }\n",
       "\n",
       "    .dataframe thead th {\n",
       "        text-align: right;\n",
       "    }\n",
       "</style>\n",
       "<table border=\"1\" class=\"dataframe\">\n",
       "  <thead>\n",
       "    <tr style=\"text-align: right;\">\n",
       "      <th></th>\n",
       "      <th>year</th>\n",
       "      <th>name</th>\n",
       "    </tr>\n",
       "  </thead>\n",
       "  <tbody>\n",
       "    <tr>\n",
       "      <th>0</th>\n",
       "      <td>2014</td>\n",
       "      <td>F. Davis</td>\n",
       "    </tr>\n",
       "    <tr>\n",
       "      <th>1</th>\n",
       "      <td>2014</td>\n",
       "      <td>J. Blackmon</td>\n",
       "    </tr>\n",
       "    <tr>\n",
       "      <th>2</th>\n",
       "      <td>2014</td>\n",
       "      <td>L. Brazill</td>\n",
       "    </tr>\n",
       "    <tr>\n",
       "      <th>3</th>\n",
       "      <td>2014</td>\n",
       "      <td>T. Jackson</td>\n",
       "    </tr>\n",
       "    <tr>\n",
       "      <th>4</th>\n",
       "      <td>1946</td>\n",
       "      <td>M. Hapes</td>\n",
       "    </tr>\n",
       "  </tbody>\n",
       "</table>\n",
       "</div>"
      ],
      "text/plain": [
       "   year         name\n",
       "0  2014     F. Davis\n",
       "1  2014  J. Blackmon\n",
       "2  2014   L. Brazill\n",
       "3  2014   T. Jackson\n",
       "4  1946     M. Hapes"
      ]
     },
     "execution_count": 21,
     "metadata": {},
     "output_type": "execute_result"
    }
   ],
   "source": [
    "df1[['year','name']].head()"
   ]
  },
  {
   "cell_type": "code",
   "execution_count": 24,
   "metadata": {},
   "outputs": [
    {
     "data": {
      "image/png": "[encoded data removed]",
      "text/plain": [
       "<Figure size 432x288 with 1 Axes>"
      ]
     },
     "metadata": {
      "needs_background": "light"
     },
     "output_type": "display_data"
    }
   ],
   "source": [
    "import numpy as np\n",
    "import pandas as pd\n",
    "import matplotlib.pyplot as plt\n",
    "ts = pd.Series(np.random.randn(1000), \n",
    "               index=pd.date_range('1/1/2000', \n",
    "                                   periods=1000))\n",
    "ts.plot()\n",
    "plt.show()"
   ]
  },
  {
   "cell_type": "code",
   "execution_count": 25,
   "metadata": {},
   "outputs": [
    {
     "name": "stdout",
     "output_type": "stream",
     "text": [
      "['b', 'c', 'd', 'e', 'f']\n"
     ]
    }
   ],
   "source": [
    "\"APPLICATION FOR ONLINE MS DEGREE OF DATA SCIENCE WITH GRE WAIVE\".lower()\n",
    "\n",
    "\n",
    "np.arange(7, dtype='int')\n",
    "np.arange(7, dtype='D')\n",
    "\n",
    "np.arange(10)\n",
    "\n",
    "np.arange(4,100)*23\n",
    "\n",
    "fun = lambda x,y:x+y\n",
    "fun(1,2)\n",
    "\n",
    "(lambda x,y:x+y)(1,2)\n",
    "\n",
    "def f(x): return x % 2 != 0 and x % 3 != 0\n",
    "filter(f, range(2, 25))\n",
    "\n",
    "def f(x): return x != 'a'\n",
    "a=filter(f, \"abcdef\")\n",
    "print([i for i in a])"
   ]
  },
  {
   "cell_type": "code",
   "execution_count": 27,
   "metadata": {},
   "outputs": [
    {
     "name": "stdout",
     "output_type": "stream",
     "text": [
      "153\n"
     ]
    },
    {
     "data": {
      "text/plain": [
       "[18, 14, 14, 14]"
      ]
     },
     "execution_count": 27,
     "metadata": {},
     "output_type": "execute_result"
    }
   ],
   "source": [
    "from functools import reduce\n",
    "a=[5,4,3,2,1]\n",
    "def fun(x):\n",
    "    result = 1\n",
    "    while x >= 1:\n",
    "        result = result * x\n",
    "        x = x - 1\n",
    "    return result\n",
    "print (reduce(lambda x,y:x+y, map(fun,a)))\n",
    "\n",
    "\n",
    "def add(x,y): return x + y\n",
    "reduce(add, range(1, 11))\n",
    "\n",
    "\n",
    "a = [1, 2, 3, 4]\n",
    "b = [17, 12, 11, 10]\n",
    "list(map(lambda x, y : x+y, a, b))"
   ]
  },
  {
   "cell_type": "code",
   "execution_count": null,
   "metadata": {},
   "outputs": [],
   "source": []
  }
 ],
 "metadata": {
  "kernelspec": {
   "display_name": "Python [default]",
   "language": "python",
   "name": "python3"
  },
  "language_info": {
   "codemirror_mode": {
    "name": "ipython",
    "version": 3
   },
   "file_extension": ".py",
   "mimetype": "text/x-python",
   "name": "python",
   "nbconvert_exporter": "python",
   "pygments_lexer": "ipython3",
   "version": "3.5.6"
  },
  "varInspector": {
   "cols": {
    "lenName": 16,
    "lenType": 16,
    "lenVar": 40
   },
   "kernels_config": {
    "python": {
     "delete_cmd_postfix": "",
     "delete_cmd_prefix": "del ",
     "library": "var_list.py",
     "varRefreshCmd": "print(var_dic_list())"
    },
    "r": {
     "delete_cmd_postfix": ") ",
     "delete_cmd_prefix": "rm(",
     "library": "var_list.r",
     "varRefreshCmd": "cat(var_dic_list()) "
    }
   },
   "types_to_exclude": [
    "module",
    "function",
    "builtin_function_or_method",
    "instance",
    "_Feature"
   ],
   "window_display": false
  }
 },
 "nbformat": 4,
 "nbformat_minor": 2
}
