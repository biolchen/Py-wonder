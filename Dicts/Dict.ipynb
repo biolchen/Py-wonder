{
 "cells": [
  {
   "cell_type": "markdown",
   "metadata": {},
   "source": [
    "## Dictionary as counter"
   ]
  },
  {
   "cell_type": "code",
   "execution_count": 1,
   "metadata": {},
   "outputs": [],
   "source": [
    "word='brontosaurus' \n",
    "d=dict() \n",
    "for c in word:\n",
    "    if c not in d:\n",
    "        d[c]=1\n",
    "    else:\n",
    "        d[c]=d[c]+1"
   ]
  },
  {
   "cell_type": "markdown",
   "metadata": {},
   "source": [
    "## Using `Counter`"
   ]
  },
  {
   "cell_type": "code",
   "execution_count": 3,
   "metadata": {},
   "outputs": [
    {
     "output_type": "execute_result",
     "data": {
      "text/plain": "Counter({(12, 6): 20, (12, 0): 26, (0, 6): 13, (6, 0): 17})"
     },
     "metadata": {},
     "execution_count": 3
    }
   ],
   "source": [
    "from collections import Counter\n",
    "\n",
    "x = [[12, 6], [12, 0], [0, 6], [12, 0], [12, 0], [6, 0], [12, 6], [0, 6], [12, 0], [0, 6], \n",
    "     [0, 6], [12, 0], [0, 6], [6, 0], [6, 0], [12, 0], [6, 0], [12, 0], [12, 0], [0, 6], \n",
    "     [0, 6], [12, 6], [6, 0], [6, 0], [12, 6], [12, 0], [12, 0], [0, 6], [6, 0], [12, 6], \n",
    "     [12, 6], [12, 6], [12, 0], [12, 0], [12, 0], [12, 0], [12, 6], [12, 0], [12, 0], \n",
    "     [12, 6], [0, 6], [0, 6], [6, 0], [12, 6], [12, 6], [12, 6], [12, 6], [12, 6], [12, 0], \n",
    "     [0, 6], [6, 0], [12, 0], [0, 6], [12, 6], [6, 0], [12, 6], [12, 6], [12, 0], [12, 0], \n",
    "     [12, 6], [0, 6], [6, 0], [12, 0], [6, 0], [12, 0], [12, 0], [12, 6], [12, 0], [6, 0], \n",
    "     [12, 6], [6, 0], [12, 0], [6, 0], [12, 0], [6, 0], [6, 0]]\n",
    "\n",
    "# Since the elements passed to a `Counter` must be hashable, we have to change the lists to tuples.\n",
    "x = [tuple(element) for element in x]\n",
    "freq = Counter(x)\n",
    "\n",
    "freq"
   ]
  },
  {
   "cell_type": "markdown",
   "metadata": {},
   "source": [
    "## Dicts have a method call **get**"
   ]
  },
  {
   "cell_type": "code",
   "execution_count": 4,
   "metadata": {},
   "outputs": [
    {
     "output_type": "execute_result",
     "data": {
      "text/plain": "1"
     },
     "metadata": {},
     "execution_count": 4
    }
   ],
   "source": [
    "d.get(\"b\",0)"
   ]
  },
  {
   "cell_type": "code",
   "execution_count": 5,
   "metadata": {},
   "outputs": [],
   "source": [
    "d=dict()\n",
    "for c in word:\n",
    "    d[c]=d.get(c,0)+1"
   ]
  },
  {
   "cell_type": "code",
   "execution_count": 6,
   "metadata": {},
   "outputs": [
    {
     "output_type": "stream",
     "name": "stdout",
     "text": "{'b': 1, 'r': 2, 'o': 2, 'n': 1, 't': 1, 's': 2, 'a': 1, 'u': 2}\n"
    }
   ],
   "source": [
    "print(d)"
   ]
  },
  {
   "cell_type": "markdown",
   "metadata": {},
   "source": [
    "## Dictionaries and files"
   ]
  },
  {
   "cell_type": "code",
   "execution_count": 7,
   "metadata": {},
   "outputs": [],
   "source": [
    "def words_count_file(filename):\n",
    "    fin=open(filename)\n",
    "    counts=dict()\n",
    "    for line in fin:\n",
    "        words=line.split()\n",
    "        for word in words:\n",
    "            if word not in counts:\n",
    "                counts[word]=1\n",
    "            else:\n",
    "                counts[word]+=1\n",
    "    print(counts)"
   ]
  },
  {
   "cell_type": "code",
   "execution_count": 9,
   "metadata": {},
   "outputs": [
    {
     "output_type": "stream",
     "name": "stdout",
     "text": "{'yes': 2, 'no': 3}\n"
    }
   ],
   "source": [
    "words_count_file('example.txt')"
   ]
  },
  {
   "cell_type": "code",
   "execution_count": 11,
   "metadata": {},
   "outputs": [],
   "source": [
    "def read_txt(filename):\n",
    "    # Opening a file in python for reading is easy:\n",
    "    f = open(filename, 'r')\n",
    "    # To get everything in the file, just use read()\n",
    "    file_contents = f.read()\n",
    "    # And to print the contents, just do:\n",
    "    print (file_contents)\n",
    "    f.close()"
   ]
  },
  {
   "cell_type": "code",
   "execution_count": 12,
   "metadata": {
    "scrolled": false
   },
   "outputs": [
    {
     "output_type": "stream",
     "name": "stdout",
     "text": "yes\nyes\nno\nno\nno\n"
    }
   ],
   "source": [
    "read_txt('example.txt')"
   ]
  },
  {
   "cell_type": "markdown",
   "metadata": {
    "nbpresent": {
     "id": "1ee2491e-7b76-410f-89b8-589b9641a2a5"
    }
   },
   "source": [
    "## 7.2 sorted Disctionaries"
   ]
  },
  {
   "cell_type": "code",
   "execution_count": 49,
   "metadata": {
    "nbpresent": {
     "id": "ad235606-302f-4432-a805-f2a7cc5f6a3a"
    }
   },
   "outputs": [],
   "source": [
    "xs = {'a':4,'c':2,'b':3,'d':1}"
   ]
  },
  {
   "cell_type": "code",
   "execution_count": 50,
   "metadata": {
    "nbpresent": {
     "id": "48ef2756-e59a-41f1-9455-61e164b94a79"
    }
   },
   "outputs": [
    {
     "data": {
      "text/plain": [
       "[('a', 4), ('b', 3), ('c', 2), ('d', 1)]"
      ]
     },
     "execution_count": 50,
     "metadata": {},
     "output_type": "execute_result"
    }
   ],
   "source": [
    "sorted(xs.items())"
   ]
  },
  {
   "cell_type": "code",
   "execution_count": 51,
   "metadata": {
    "nbpresent": {
     "id": "a69ee30b-e414-4362-bc37-5ef6f47a89e8"
    }
   },
   "outputs": [
    {
     "data": {
      "text/plain": [
       "[('d', 1), ('c', 2), ('b', 3), ('a', 4)]"
      ]
     },
     "execution_count": 51,
     "metadata": {},
     "output_type": "execute_result"
    }
   ],
   "source": [
    "sorted(xs.items(), key=lambda x: x[1])"
   ]
  },
  {
   "cell_type": "code",
   "execution_count": 52,
   "metadata": {
    "nbpresent": {
     "id": "68b53663-754a-44ad-ad9f-76fc1994c6d6"
    }
   },
   "outputs": [
    {
     "data": {
      "text/plain": [
       "[('a', 4), ('b', 3), ('c', 2), ('d', 1)]"
      ]
     },
     "execution_count": 52,
     "metadata": {},
     "output_type": "execute_result"
    }
   ],
   "source": [
    "sorted(xs.items(), key=lambda x: x[1], reverse=True)"
   ]
  },
  {
   "cell_type": "code",
   "execution_count": 53,
   "metadata": {
    "nbpresent": {
     "id": "a1caa5a4-7574-4210-b359-3c9ca32e44de"
    }
   },
   "outputs": [
    {
     "data": {
      "text/plain": [
       "[('d', 1), ('c', 2), ('b', 3), ('a', 4)]"
      ]
     },
     "execution_count": 53,
     "metadata": {},
     "output_type": "execute_result"
    }
   ],
   "source": [
    "import operator\n",
    "sorted(xs.items(), key=operator.itemgetter(1))"
   ]
  },
  {
   "cell_type": "code",
   "execution_count": 54,
   "metadata": {
    "nbpresent": {
     "id": "1b5d7790-7364-4050-8d35-dc3f99daa0bf"
    }
   },
   "outputs": [
    {
     "data": {
      "text/plain": [
       "[('d', 1), ('c', 2), ('b', 3), ('a', 4)]"
      ]
     },
     "execution_count": 54,
     "metadata": {},
     "output_type": "execute_result"
    }
   ],
   "source": [
    "sorted(xs.items(),key=lambda x:abs(x[1]))"
   ]
  },
  {
   "cell_type": "code",
   "execution_count": 55,
   "metadata": {
    "nbpresent": {
     "id": "6367717c-e152-4c1b-8ab8-97e67d5e497c"
    }
   },
   "outputs": [
    {
     "data": {
      "text/plain": [
       "[('d', 1), ('c', 2), ('b', 3), ('a', 4)]"
      ]
     },
     "execution_count": 55,
     "metadata": {},
     "output_type": "execute_result"
    }
   ],
   "source": [
    "sorted(xs.items(),key=lambda x:abs(x[1]))"
   ]
  },
  {
   "cell_type": "markdown",
   "metadata": {
    "nbpresent": {
     "id": "41772b08-8f2f-4924-b653-7bd4684497ce"
    }
   },
   "source": [
    "## 7.3 Emulating Switch/Case Statements With Dicts"
   ]
  },
  {
   "cell_type": "code",
   "execution_count": 56,
   "metadata": {
    "nbpresent": {
     "id": "fbc83547-440f-4454-90d4-10b4aec4262f"
    }
   },
   "outputs": [],
   "source": [
    "def PrintBlue():\n",
    "    print(\"You chose blue!\")\n",
    "\n",
    "def PrintRed():\n",
    "    print(\"You chose red!\")\n",
    "\n",
    "def PrintOrange():\n",
    "    print(\"You chose orange!\")\n",
    "\n",
    "def PrintYellow():\n",
    "    print(\"You chose yellow!\")\n",
    "\n",
    "ColorSelect = {\n",
    "    0: PrintBlue,\n",
    "    1: PrintRed,\n",
    "    2: PrintOrange,\n",
    "    3: PrintYellow\n",
    "}"
   ]
  },
  {
   "cell_type": "code",
   "execution_count": null,
   "metadata": {
    "nbpresent": {
     "id": "5d7c56d3-8c54-4ea5-97fd-1494e9ef67b4"
    }
   },
   "outputs": [
    {
     "name": "stdout",
     "output_type": "stream",
     "text": [
      "0. Blue\n",
      "1. Red\n",
      "2. Orange\n",
      "3. Yellow\n",
      "4. Quit\n",
      "Select a color option: 1\n",
      "You chose red!\n",
      "0. Blue\n",
      "1. Red\n",
      "2. Orange\n",
      "3. Yellow\n",
      "4. Quit\n"
     ]
    }
   ],
   "source": [
    "from IPython.display import clear_output\n",
    "Selection = 0\n",
    "\n",
    "while (Selection != 4):\n",
    "    print(\"0. Blue\")\n",
    "    print(\"1. Red\")\n",
    "    print(\"2. Orange\")\n",
    "    print(\"3. Yellow\")\n",
    "    print(\"4. Quit\")\n",
    "\n",
    "    Selection = int(input(\"Select a color option: \"))\n",
    "    if (Selection >= 0) and (Selection < 4):\n",
    "        ColorSelect[Selection]()"
   ]
  },
  {
   "cell_type": "markdown",
   "metadata": {},
   "source": [
    "# Ordereddict"
   ]
  },
  {
   "cell_type": "code",
   "execution_count": null,
   "metadata": {},
   "outputs": [],
   "source": [
    "from collections import OrderedDict\n",
    "from pprint import pprint \n",
    "\n",
    "mydict = {0: {'Score': 80.0, 'studentName': 'dan'},\n",
    "          1: {'Score': 92.0, 'studentName': 'rob'},\n",
    "          2: {'Score': 10.0, 'StudentName': 'xyz'}}\n",
    "\n",
    "ordered = OrderedDict(sorted(mydict.items(), key=lambda t: t[0]))\n",
    "pprint (ordered)"
   ]
  },
  {
   "cell_type": "code",
   "execution_count": null,
   "metadata": {},
   "outputs": [],
   "source": [
    "def weekdays(day):\n",
    "    days = ['Monday', 'Tuesday', 'Wednesday', 'Thursday', 'Friday', 'Saturday', 'Sunday']\n",
    "    i=days.index(day) # get the index of the selected day\n",
    "    d1=days[i:] #get the list from an including this index\n",
    "    d1.extend(days[:i]) # append the list form the beginning to this index\n",
    "    return d1\n",
    "\n",
    "print (weekdays('Tuesday'))"
   ]
  }
 ],
 "metadata": {
  "kernelspec": {
   "display_name": "Python 3",
   "language": "python",
   "name": "python3"
  },
  "language_info": {
   "codemirror_mode": {
    "name": "ipython",
    "version": 3
   },
   "file_extension": ".py",
   "mimetype": "text/x-python",
   "name": "python",
   "nbconvert_exporter": "python",
   "pygments_lexer": "ipython3",
   "version": "3.7.7-final"
  },
  "nbpresent": {
   "slides": {
    "2b68e161-3ce8-4a07-b69a-a421d9430ddf": {
     "id": "2b68e161-3ce8-4a07-b69a-a421d9430ddf",
     "prev": "aa8173e6-8a54-431a-9762-9566c19c8880",
     "regions": {
      "767bb38f-ca33-4065-80b7-00aa9e0247b3": {
       "attrs": {
        "height": 0.8,
        "width": 0.8,
        "x": 0.1,
        "y": 0.1
       },
       "content": {
        "cell": "48ef2756-e59a-41f1-9455-61e164b94a79",
        "part": "whole"
       },
       "id": "767bb38f-ca33-4065-80b7-00aa9e0247b3"
      }
     }
    },
    "2db35b58-31de-4d32-8c08-ad676903e5f2": {
     "id": "2db35b58-31de-4d32-8c08-ad676903e5f2",
     "prev": "62f5a6c8-044a-4c51-9e48-33f4fc8219e6",
     "regions": {
      "24bc7fb5-cd1b-4284-8e11-9c2fd2663e15": {
       "attrs": {
        "height": 0.8,
        "width": 0.8,
        "x": 0.1,
        "y": 0.1
       },
       "content": {
        "cell": "0f16249e-6e80-43fb-a7cb-654b8053f3b9",
        "part": "whole"
       },
       "id": "24bc7fb5-cd1b-4284-8e11-9c2fd2663e15"
      }
     }
    },
    "39fc281c-7e51-462b-9893-cd0fa58de1aa": {
     "id": "39fc281c-7e51-462b-9893-cd0fa58de1aa",
     "prev": "f674a52d-4017-41bf-9cf3-4f3c0fbb8d87",
     "regions": {
      "a3bbe2a1-967a-49c7-b080-59b8c59b40b9": {
       "attrs": {
        "height": 0.8,
        "width": 0.8,
        "x": 0.1,
        "y": 0.1
       },
       "content": {
        "cell": "6367717c-e152-4c1b-8ab8-97e67d5e497c",
        "part": "whole"
       },
       "id": "a3bbe2a1-967a-49c7-b080-59b8c59b40b9"
      }
     }
    },
    "55777762-eca5-4234-8590-4a2233057dfa": {
     "id": "55777762-eca5-4234-8590-4a2233057dfa",
     "prev": "2db35b58-31de-4d32-8c08-ad676903e5f2",
     "regions": {
      "dde2d480-71af-4171-86c1-51ff3d11dfd7": {
       "attrs": {
        "height": 0.8,
        "width": 0.8,
        "x": 0.1,
        "y": 0.1
       },
       "content": {
        "cell": "3471101d-adfd-4471-b17e-b4762a6de365",
        "part": "whole"
       },
       "id": "dde2d480-71af-4171-86c1-51ff3d11dfd7"
      }
     }
    },
    "591956db-20fb-4900-af70-a9019b5b1b6d": {
     "id": "591956db-20fb-4900-af70-a9019b5b1b6d",
     "prev": null,
     "regions": {
      "0f990a6a-8ed7-410c-baf4-b579601e89ac": {
       "attrs": {
        "height": 0.8,
        "width": 0.45,
        "x": 0.5,
        "y": 0.1
       },
       "id": "0f990a6a-8ed7-410c-baf4-b579601e89ac"
      },
      "f7e8138a-cdaf-4fab-b031-22957b8c431a": {
       "attrs": {
        "height": 0.8,
        "width": 0.45,
        "x": 0.05,
        "y": 0.1
       },
       "id": "f7e8138a-cdaf-4fab-b031-22957b8c431a"
      }
     }
    },
    "5ce56be1-9c60-4d63-a8d8-dc51023f6529": {
     "id": "5ce56be1-9c60-4d63-a8d8-dc51023f6529",
     "prev": "2b68e161-3ce8-4a07-b69a-a421d9430ddf",
     "regions": {
      "10579935-4180-41b0-9809-b7a3a97facaa": {
       "attrs": {
        "height": 0.8,
        "width": 0.8,
        "x": 0.1,
        "y": 0.1
       },
       "content": {
        "cell": "a69ee30b-e414-4362-bc37-5ef6f47a89e8",
        "part": "whole"
       },
       "id": "10579935-4180-41b0-9809-b7a3a97facaa"
      }
     }
    },
    "62f5a6c8-044a-4c51-9e48-33f4fc8219e6": {
     "id": "62f5a6c8-044a-4c51-9e48-33f4fc8219e6",
     "prev": "971e9284-cf78-4526-bf3c-7019872f2253",
     "regions": {
      "cb8574c8-8bc2-4110-ba86-7a18b4a3f182": {
       "attrs": {
        "height": 0.8,
        "width": 0.8,
        "x": 0.1,
        "y": 0.1
       },
       "content": {
        "cell": "4cfceb29-6e30-4d06-b60b-a7727a1fe437",
        "part": "whole"
       },
       "id": "cb8574c8-8bc2-4110-ba86-7a18b4a3f182"
      }
     }
    },
    "971e9284-cf78-4526-bf3c-7019872f2253": {
     "id": "971e9284-cf78-4526-bf3c-7019872f2253",
     "prev": "cde53ff0-c474-4e9e-b2be-e07b67a325fc",
     "regions": {
      "01202ccd-e0d9-4dcb-afd0-017e8f0bd1f7": {
       "attrs": {
        "height": 0.8,
        "width": 0.8,
        "x": 0.1,
        "y": 0.1
       },
       "content": {
        "cell": "5d7c56d3-8c54-4ea5-97fd-1494e9ef67b4",
        "part": "whole"
       },
       "id": "01202ccd-e0d9-4dcb-afd0-017e8f0bd1f7"
      }
     }
    },
    "977c2f5b-c65c-4237-b8d7-7abbdc4bea91": {
     "id": "977c2f5b-c65c-4237-b8d7-7abbdc4bea91",
     "prev": null,
     "regions": {
      "a13836bc-c20b-449d-bace-dadc018d763c": {
       "attrs": {
        "height": 0.8,
        "width": 0.8,
        "x": 0.1,
        "y": 0.1
       },
       "content": {
        "cell": "1ee2491e-7b76-410f-89b8-589b9641a2a5",
        "part": "whole"
       },
       "id": "a13836bc-c20b-449d-bace-dadc018d763c"
      }
     }
    },
    "aa8173e6-8a54-431a-9762-9566c19c8880": {
     "id": "aa8173e6-8a54-431a-9762-9566c19c8880",
     "prev": "977c2f5b-c65c-4237-b8d7-7abbdc4bea91",
     "regions": {
      "2acb3689-26b0-4a19-a75b-dd5f8977d5e0": {
       "attrs": {
        "height": 0.8,
        "width": 0.8,
        "x": 0.1,
        "y": 0.1
       },
       "content": {
        "cell": "ad235606-302f-4432-a805-f2a7cc5f6a3a",
        "part": "whole"
       },
       "id": "2acb3689-26b0-4a19-a75b-dd5f8977d5e0"
      }
     }
    },
    "afa96c27-8726-48d9-981f-5297294111bb": {
     "id": "afa96c27-8726-48d9-981f-5297294111bb",
     "prev": "5ce56be1-9c60-4d63-a8d8-dc51023f6529",
     "regions": {
      "53f35dad-173b-4279-ab73-cf10859bafa5": {
       "attrs": {
        "height": 0.8,
        "width": 0.8,
        "x": 0.1,
        "y": 0.1
       },
       "content": {
        "cell": "68b53663-754a-44ad-ad9f-76fc1994c6d6",
        "part": "whole"
       },
       "id": "53f35dad-173b-4279-ab73-cf10859bafa5"
      }
     }
    },
    "c47c684e-d1d6-40f6-a474-8dae8b54909c": {
     "id": "c47c684e-d1d6-40f6-a474-8dae8b54909c",
     "prev": "39fc281c-7e51-462b-9893-cd0fa58de1aa",
     "regions": {
      "87671f6f-adda-4857-98e9-e2a74f0dcb43": {
       "attrs": {
        "height": 0.8,
        "width": 0.8,
        "x": 0.1,
        "y": 0.1
       },
       "content": {
        "cell": "41772b08-8f2f-4924-b653-7bd4684497ce",
        "part": "whole"
       },
       "id": "87671f6f-adda-4857-98e9-e2a74f0dcb43"
      }
     }
    },
    "cde53ff0-c474-4e9e-b2be-e07b67a325fc": {
     "id": "cde53ff0-c474-4e9e-b2be-e07b67a325fc",
     "prev": "c47c684e-d1d6-40f6-a474-8dae8b54909c",
     "regions": {
      "106d59d8-f754-4497-b14b-588b4cd9423c": {
       "attrs": {
        "height": 0.8,
        "width": 0.8,
        "x": 0.1,
        "y": 0.1
       },
       "content": {
        "cell": "fbc83547-440f-4454-90d4-10b4aec4262f",
        "part": "whole"
       },
       "id": "106d59d8-f754-4497-b14b-588b4cd9423c"
      }
     }
    },
    "f674a52d-4017-41bf-9cf3-4f3c0fbb8d87": {
     "id": "f674a52d-4017-41bf-9cf3-4f3c0fbb8d87",
     "prev": "ff6fcc53-77fb-44f6-a356-886e14c4f86e",
     "regions": {
      "05866e0a-6096-47e3-9e07-e2152b1b800a": {
       "attrs": {
        "height": 0.8,
        "width": 0.8,
        "x": 0.1,
        "y": 0.1
       },
       "content": {
        "cell": "1b5d7790-7364-4050-8d35-dc3f99daa0bf",
        "part": "whole"
       },
       "id": "05866e0a-6096-47e3-9e07-e2152b1b800a"
      }
     }
    },
    "ff6fcc53-77fb-44f6-a356-886e14c4f86e": {
     "id": "ff6fcc53-77fb-44f6-a356-886e14c4f86e",
     "prev": "afa96c27-8726-48d9-981f-5297294111bb",
     "regions": {
      "01f64a57-9d1c-4e15-aea7-3c67d043d8a4": {
       "attrs": {
        "height": 0.8,
        "width": 0.8,
        "x": 0.1,
        "y": 0.1
       },
       "content": {
        "cell": "a1caa5a4-7574-4210-b359-3c9ca32e44de",
        "part": "whole"
       },
       "id": "01f64a57-9d1c-4e15-aea7-3c67d043d8a4"
      }
     }
    }
   },
   "themes": {}
  }
 },
 "nbformat": 4,
 "nbformat_minor": 2
}