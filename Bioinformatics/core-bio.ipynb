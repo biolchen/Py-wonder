{
 "cells": [
  {
   "cell_type": "markdown",
   "metadata": {},
   "source": [
    "# Visualizing bioinformatics data with plot.ly"
   ]
  },
  {
   "cell_type": "markdown",
   "metadata": {},
   "source": [
    "## Introduction\n",
    "This notebook is based on [An Introduction to Bioinformatics](http://readiab.org/). This notebook will follow the progression of the textbook but the textbook should be consulted for more detailed explanations of the analyses.  \n",
    "\n",
    "This note book will cover the fundamentals of bioinformatics - how to interact with with raw sequence data, sequence alignment, and tree building. These are the most basic steps in bioinformatics and most analyses are based on these, or similar processes.\n",
    "\n",
    "This notebook will cover:\n",
    "1. Sequence Quality\n",
    "2. Sequence Alignment\n",
    "3. Tree building\n",
    "\n"
   ]
  },
  {
   "cell_type": "markdown",
   "metadata": {},
   "source": [
    "### The dataset\n",
    "The dataset we will be using is from the paper [Geography and Location Are the Primary Drivers of Office Microbiome Composition](http://msystems.asm.org/content/1/2/e00022-16). The data represented is raw sequence data produced by an illumina MiSeq of the bacterial 16S rRNA gene. The sequences present are from a single sample that was taken from the floor of an office in Flagstaff Arizona."
   ]
  },
  {
   "cell_type": "markdown",
   "metadata": {},
   "source": [
    "### Obtain the files"
   ]
  },
  {
   "cell_type": "code",
   "execution_count": 1,
   "metadata": {},
   "outputs": [
    {
     "name": "stdout",
     "output_type": "stream",
     "text": [
      "--2016-11-27 18:06:03--  https://github.com/johnchase/plotly-notebook/raw/master/raw_data.tar.gz\n",
      "Resolving github.com... 192.30.253.113, 192.30.253.112\n",
      "Connecting to github.com|192.30.253.113|:443... connected.\n",
      "HTTP request sent, awaiting response... 302 Found\n",
      "Location: https://raw.githubusercontent.com/johnchase/plotly-notebook/master/raw_data.tar.gz [following]\n",
      "--2016-11-27 18:06:03--  https://raw.githubusercontent.com/johnchase/plotly-notebook/master/raw_data.tar.gz\n",
      "Resolving raw.githubusercontent.com... 151.101.40.133\n",
      "Connecting to raw.githubusercontent.com|151.101.40.133|:443... connected.\n",
      "HTTP request sent, awaiting response... 200 OK\n",
      "Length: 2335320 (2.2M) [application/octet-stream]\n",
      "Saving to: ‘raw_data.tar.gz.6’\n",
      "\n",
      "raw_data.tar.gz.6   100%[===================>]   2.23M  2.41MB/s    in 0.9s    \n",
      "\n",
      "2016-11-27 18:06:04 (2.41 MB/s) - ‘raw_data.tar.gz.6’ saved [2335320/2335320]\n",
      "\n",
      "x ./._msa10.fna\n",
      "x msa10.fna\n",
      "x ./._seqs_quals.fastq\n",
      "x seqs_quals.fastq\n"
     ]
    }
   ],
   "source": [
    "!wget https://github.com/johnchase/plotly-notebook/raw/master/raw_data.tar.gz\n",
    "!tar -xvzf raw_data.tar.gz"
   ]
  },
  {
   "cell_type": "markdown",
   "metadata": {},
   "source": [
    "### Load the necessary libraries"
   ]
  },
  {
   "cell_type": "code",
   "execution_count": 2,
   "metadata": {},
   "outputs": [],
   "source": [
    "import plotly.plotly as py\n",
    "import plotly.graph_objs as go\n",
    "from plotly.tools import FigureFactory as FF\n",
    "import colorlover as cl\n",
    "\n",
    "import skbio\n",
    "from skbio.alignment import global_pairwise_align_nucleotide\n",
    "from skbio.sequence import DNA\n",
    "import pandas as pd\n",
    "import itertools\n",
    "import numpy as np"
   ]
  },
  {
   "cell_type": "code",
   "execution_count": 20,
   "metadata": {},
   "outputs": [
    {
     "data": {
      "text/html": [
       "<script type=\"text/javascript\">window.PlotlyConfig = {MathJaxConfig: 'local'};</script><script type=\"text/javascript\">if (window.MathJax) {MathJax.Hub.Config({SVG: {font: \"STIX-Web\"}});}</script><script>requirejs.config({paths: { 'plotly': ['https://cdn.plot.ly/plotly-latest.min']},});if(!window._Plotly) {require(['plotly'],function(plotly) {window._Plotly=plotly;});}</script>"
      ],
      "text/vnd.plotly.v1+html": [
       "<script type=\"text/javascript\">window.PlotlyConfig = {MathJaxConfig: 'local'};</script><script type=\"text/javascript\">if (window.MathJax) {MathJax.Hub.Config({SVG: {font: \"STIX-Web\"}});}</script><script>requirejs.config({paths: { 'plotly': ['https://cdn.plot.ly/plotly-latest.min']},});if(!window._Plotly) {require(['plotly'],function(plotly) {window._Plotly=plotly;});}</script>"
      ]
     },
     "metadata": {},
     "output_type": "display_data"
    }
   ],
   "source": [
    "from plotly import tools\n",
    "import plotly.graph_objs as go\n",
    "from plotly.offline import download_plotlyjs, init_notebook_mode, plot, iplot\n",
    "init_notebook_mode(connected=True)\n",
    "import numpy as np\n",
    "import matplotlib.pyplot as plt\n",
    "from sklearn.cluster import KMeans\n",
    "from sklearn.datasets import make_blobs"
   ]
  },
  {
   "cell_type": "code",
   "execution_count": 3,
   "metadata": {},
   "outputs": [],
   "source": [
    "py.sign_in('johnchase', '')\n"
   ]
  },
  {
   "cell_type": "markdown",
   "metadata": {},
   "source": [
    "## 1. Sequence Quality\n",
    "Because the quality of sequence data produced by high throughput sequencing varies between sequencing runs and samples it is important to look at the sequence quality and possibly filter or trim sequences, or remove samples where the quality is low. A more detailed description of the fastq format and quality scores can be found [here](http://scikit-bio.org/docs/latest/generated/skbio.io.format.fastq.html?highlight=fastq#module-skbio.io.format.fastq). Quality scores themselves are difficult to interpret, so we will use scikit-bio to decode the scores for us. Here we load the sequence data into a generator with scikit-bio."
   ]
  },
  {
   "cell_type": "code",
   "execution_count": 5,
   "metadata": {},
   "outputs": [],
   "source": [
    "f = '/home/paperspace/data/biology/bioinfo/seqs_quals.fastq'\n",
    "seqs = skbio.io.read(f, format='fastq', verify=False, variant='illumina1.8')"
   ]
  },
  {
   "cell_type": "markdown",
   "metadata": {},
   "source": [
    "We can view one of the `skbio.sequence._sequence.Sequence` entries in the generator object. This will display the sequence data and associated metadata. "
   ]
  },
  {
   "cell_type": "code",
   "execution_count": 7,
   "metadata": {},
   "outputs": [
    {
     "data": {
      "text/plain": [
       "Sequence\n",
       "-----------------------------------------------------------------------\n",
       "Metadata:\n",
       "    'description': 'M00365:23:000000000-A5A85:1:1101:19713:2393 2:N:0:0\n",
       "                    orig_bc=TACCTCTCAGAA new_bc=TACCTCTCAGAA\n",
       "                    bc_diffs=0'\n",
       "    'id': '1AM1JR7QWMSFA_3665'\n",
       "Positional metadata:\n",
       "    'quality': <dtype: uint8>\n",
       "Stats:\n",
       "    length: 251\n",
       "-----------------------------------------------------------------------\n",
       "0   CCTGTTTGAT CCCCACGCTT TCGTGCCTCA GCGTCAATAA CACCATAGTA AGCTGCCTTC\n",
       "60  GCAATCGGTG TTCTGTGACA TATCTATGCA TTTCACCGCT ACTTGTCACA TTCCGCCTAC\n",
       "120 CTCTAGTGTA TTCAAGCTCA TCAGTATCAA GGGCACTGCG ATGGTTGAGC CACCGTCTTT\n",
       "180 CACCCCTGAC TTAATAAGCC GCCTACGCAC CCTTTAAACC CAATAAATCC GGATAACGCT\n",
       "240 TGGATCCTCC G"
      ]
     },
     "execution_count": 7,
     "metadata": {},
     "output_type": "execute_result"
    }
   ],
   "source": [
    "seq1 = seqs.__next__()\n",
    "seq1"
   ]
  },
  {
   "cell_type": "markdown",
   "metadata": {},
   "source": [
    "We can also view the sequence quality data for a given sequence (or sequences) by looking at the positional metadata."
   ]
  },
  {
   "cell_type": "code",
   "execution_count": 8,
   "metadata": {},
   "outputs": [
    {
     "data": {
      "text/plain": [
       "0    33\n",
       "1    33\n",
       "2    33\n",
       "3    33\n",
       "4    33\n",
       "5    37\n",
       "6    37\n",
       "7    37\n",
       "8    37\n",
       "9    37\n",
       "Name: quality, dtype: uint8"
      ]
     },
     "execution_count": 8,
     "metadata": {},
     "output_type": "execute_result"
    }
   ],
   "source": [
    "seq1.positional_metadata.quality[:10]"
   ]
  },
  {
   "cell_type": "markdown",
   "metadata": {},
   "source": [
    "Looking through sequence quality on a per-sequence basis is tedious and it would be diffult to decipher meaningful patterns, plotting the data is a  better solution. In order to create a meaningful plot we will first create a `pd.DataFrame` object of the quality scores. Due to limitations in data size and because a subset of our data will fairly accurately represent the quality of the full data set we will only look at athe first 500 sequences in our data set."
   ]
  },
  {
   "cell_type": "code",
   "execution_count": 9,
   "metadata": {},
   "outputs": [],
   "source": [
    "seqs = skbio.io.read(f, format='fastq', verify=False, variant='illumina1.8')\n",
    "\n",
    "df = pd.DataFrame()\n",
    "num_sequences = 500\n",
    "\n",
    "for count, seq in enumerate(itertools.islice(seqs, num_sequences)):\n",
    "    df[count] = seq.positional_metadata.quality"
   ]
  },
  {
   "cell_type": "markdown",
   "metadata": {},
   "source": [
    "Now that we have a dataframe with all of our quality scores it is easy to visualize them with plotly. \n",
    "\n",
    "We can improve upon a basic boxplot by defining a specific color scheme. Fastq quality scores range from 0-40, and poor quality is often considered to be anything less then 20. Given this we will define a diverging colormap where an average quality score of below 20 will be a shade of red and anything above will be a shade of blue. (20 will be yellow). This will help with distinguishing regions of high versus low quality."
   ]
  },
  {
   "cell_type": "markdown",
   "metadata": {},
   "source": [
    "First define the colormap using color lover"
   ]
  },
  {
   "cell_type": "code",
   "execution_count": 10,
   "metadata": {},
   "outputs": [],
   "source": [
    "purd = cl.scales['11']['div']['RdYlBu']\n",
    "purd40 = cl.interp(purd, 40)"
   ]
  },
  {
   "cell_type": "markdown",
   "metadata": {},
   "source": [
    "Now we can make boxplots of the quality scores on a per base basis"
   ]
  },
  {
   "cell_type": "code",
   "execution_count": 11,
   "metadata": {},
   "outputs": [
    {
     "ename": "ValueError",
     "evalue": "\n    Invalid value of type 'builtins.str' received for the 'boxpoints' property of box\n        Received value: 'none'\n\n    The 'boxpoints' property is an enumeration that may be specified as:\n      - One of the following enumeration values:\n            ['all', 'outliers', 'suspectedoutliers', False]",
     "output_type": "error",
     "traceback": [
      "\u001b[0;31m---------------------------------------------------------------------------\u001b[0m",
      "\u001b[0;31mValueError\u001b[0m                                Traceback (most recent call last)",
      "\u001b[0;32m<ipython-input-11-3396f5521c3f>\u001b[0m in \u001b[0;36m<module>\u001b[0;34m\u001b[0m\n\u001b[1;32m     10\u001b[0m             \u001b[0mcolor\u001b[0m\u001b[0;34m=\u001b[0m\u001b[0mpurd40\u001b[0m\u001b[0;34m[\u001b[0m\u001b[0mint\u001b[0m\u001b[0;34m(\u001b[0m\u001b[0mround\u001b[0m\u001b[0;34m(\u001b[0m\u001b[0mdf\u001b[0m\u001b[0;34m.\u001b[0m\u001b[0miloc\u001b[0m\u001b[0;34m[\u001b[0m\u001b[0me\u001b[0m\u001b[0;34m]\u001b[0m\u001b[0;34m.\u001b[0m\u001b[0mmean\u001b[0m\u001b[0;34m(\u001b[0m\u001b[0;34m)\u001b[0m\u001b[0;34m,\u001b[0m \u001b[0;36m0\u001b[0m\u001b[0;34m)\u001b[0m\u001b[0;34m)\u001b[0m\u001b[0;34m]\u001b[0m\u001b[0;34m\u001b[0m\u001b[0m\n\u001b[1;32m     11\u001b[0m         ),\n\u001b[0;32m---> 12\u001b[0;31m         \u001b[0mline\u001b[0m\u001b[0;34m=\u001b[0m\u001b[0mdict\u001b[0m\u001b[0;34m(\u001b[0m\u001b[0mwidth\u001b[0m\u001b[0;34m=\u001b[0m\u001b[0;36m1\u001b[0m\u001b[0;34m)\u001b[0m\u001b[0;34m,\u001b[0m\u001b[0;34m\u001b[0m\u001b[0m\n\u001b[0m\u001b[1;32m     13\u001b[0m     ))\n\u001b[1;32m     14\u001b[0m \u001b[0;34m\u001b[0m\u001b[0m\n",
      "\u001b[0;32m~/anaconda3/envs/bioinfo/lib/python3.6/site-packages/plotly/graph_objs/_box.py\u001b[0m in \u001b[0;36m__init__\u001b[0;34m(self, arg, boxmean, boxpoints, customdata, customdatasrc, fillcolor, hoverinfo, hoverinfosrc, hoverlabel, hoveron, ids, idssrc, jitter, legendgroup, line, marker, name, notched, notchwidth, opacity, orientation, pointpos, selected, selectedpoints, showlegend, stream, text, textsrc, uid, unselected, visible, whiskerwidth, x, x0, xaxis, xcalendar, xsrc, y, y0, yaxis, ycalendar, ysrc, **kwargs)\u001b[0m\n\u001b[1;32m   1494\u001b[0m         \u001b[0mself\u001b[0m\u001b[0;34m[\u001b[0m\u001b[0;34m'boxmean'\u001b[0m\u001b[0;34m]\u001b[0m \u001b[0;34m=\u001b[0m \u001b[0mboxmean\u001b[0m \u001b[0;32mif\u001b[0m \u001b[0mboxmean\u001b[0m \u001b[0;32mis\u001b[0m \u001b[0;32mnot\u001b[0m \u001b[0;32mNone\u001b[0m \u001b[0;32melse\u001b[0m \u001b[0m_v\u001b[0m\u001b[0;34m\u001b[0m\u001b[0m\n\u001b[1;32m   1495\u001b[0m         \u001b[0m_v\u001b[0m \u001b[0;34m=\u001b[0m \u001b[0marg\u001b[0m\u001b[0;34m.\u001b[0m\u001b[0mpop\u001b[0m\u001b[0;34m(\u001b[0m\u001b[0;34m'boxpoints'\u001b[0m\u001b[0;34m,\u001b[0m \u001b[0;32mNone\u001b[0m\u001b[0;34m)\u001b[0m\u001b[0;34m\u001b[0m\u001b[0m\n\u001b[0;32m-> 1496\u001b[0;31m         \u001b[0mself\u001b[0m\u001b[0;34m[\u001b[0m\u001b[0;34m'boxpoints'\u001b[0m\u001b[0;34m]\u001b[0m \u001b[0;34m=\u001b[0m \u001b[0mboxpoints\u001b[0m \u001b[0;32mif\u001b[0m \u001b[0mboxpoints\u001b[0m \u001b[0;32mis\u001b[0m \u001b[0;32mnot\u001b[0m \u001b[0;32mNone\u001b[0m \u001b[0;32melse\u001b[0m \u001b[0m_v\u001b[0m\u001b[0;34m\u001b[0m\u001b[0m\n\u001b[0m\u001b[1;32m   1497\u001b[0m         \u001b[0m_v\u001b[0m \u001b[0;34m=\u001b[0m \u001b[0marg\u001b[0m\u001b[0;34m.\u001b[0m\u001b[0mpop\u001b[0m\u001b[0;34m(\u001b[0m\u001b[0;34m'customdata'\u001b[0m\u001b[0;34m,\u001b[0m \u001b[0;32mNone\u001b[0m\u001b[0;34m)\u001b[0m\u001b[0;34m\u001b[0m\u001b[0m\n\u001b[1;32m   1498\u001b[0m         \u001b[0mself\u001b[0m\u001b[0;34m[\u001b[0m\u001b[0;34m'customdata'\u001b[0m\u001b[0;34m]\u001b[0m \u001b[0;34m=\u001b[0m \u001b[0mcustomdata\u001b[0m \u001b[0;32mif\u001b[0m \u001b[0mcustomdata\u001b[0m \u001b[0;32mis\u001b[0m \u001b[0;32mnot\u001b[0m \u001b[0;32mNone\u001b[0m \u001b[0;32melse\u001b[0m \u001b[0m_v\u001b[0m\u001b[0;34m\u001b[0m\u001b[0m\n",
      "\u001b[0;32m~/anaconda3/envs/bioinfo/lib/python3.6/site-packages/plotly/basedatatypes.py\u001b[0m in \u001b[0;36m__setitem__\u001b[0;34m(self, prop, value)\u001b[0m\n\u001b[1;32m   2797\u001b[0m             \u001b[0;31m# ### Handle simple property ###\u001b[0m\u001b[0;34m\u001b[0m\u001b[0;34m\u001b[0m\u001b[0m\n\u001b[1;32m   2798\u001b[0m             \u001b[0;32melse\u001b[0m\u001b[0;34m:\u001b[0m\u001b[0;34m\u001b[0m\u001b[0m\n\u001b[0;32m-> 2799\u001b[0;31m                 \u001b[0mself\u001b[0m\u001b[0;34m.\u001b[0m\u001b[0m_set_prop\u001b[0m\u001b[0;34m(\u001b[0m\u001b[0mprop\u001b[0m\u001b[0;34m,\u001b[0m \u001b[0mvalue\u001b[0m\u001b[0;34m)\u001b[0m\u001b[0;34m\u001b[0m\u001b[0m\n\u001b[0m\u001b[1;32m   2800\u001b[0m \u001b[0;34m\u001b[0m\u001b[0m\n\u001b[1;32m   2801\u001b[0m         \u001b[0;31m# Handle non-scalar case\u001b[0m\u001b[0;34m\u001b[0m\u001b[0;34m\u001b[0m\u001b[0m\n",
      "\u001b[0;32m~/anaconda3/envs/bioinfo/lib/python3.6/site-packages/plotly/basedatatypes.py\u001b[0m in \u001b[0;36m_set_prop\u001b[0;34m(self, prop, val)\u001b[0m\n\u001b[1;32m   3033\u001b[0m                 \u001b[0;32mreturn\u001b[0m\u001b[0;34m\u001b[0m\u001b[0m\n\u001b[1;32m   3034\u001b[0m             \u001b[0;32melse\u001b[0m\u001b[0;34m:\u001b[0m\u001b[0;34m\u001b[0m\u001b[0m\n\u001b[0;32m-> 3035\u001b[0;31m                 \u001b[0;32mraise\u001b[0m \u001b[0merr\u001b[0m\u001b[0;34m\u001b[0m\u001b[0m\n\u001b[0m\u001b[1;32m   3036\u001b[0m \u001b[0;34m\u001b[0m\u001b[0m\n\u001b[1;32m   3037\u001b[0m         \u001b[0;31m# val is None\u001b[0m\u001b[0;34m\u001b[0m\u001b[0;34m\u001b[0m\u001b[0m\n",
      "\u001b[0;32m~/anaconda3/envs/bioinfo/lib/python3.6/site-packages/plotly/basedatatypes.py\u001b[0m in \u001b[0;36m_set_prop\u001b[0;34m(self, prop, val)\u001b[0m\n\u001b[1;32m   3028\u001b[0m         \u001b[0mvalidator\u001b[0m \u001b[0;34m=\u001b[0m \u001b[0mself\u001b[0m\u001b[0;34m.\u001b[0m\u001b[0m_validators\u001b[0m\u001b[0;34m.\u001b[0m\u001b[0mget\u001b[0m\u001b[0;34m(\u001b[0m\u001b[0mprop\u001b[0m\u001b[0;34m)\u001b[0m\u001b[0;34m\u001b[0m\u001b[0m\n\u001b[1;32m   3029\u001b[0m         \u001b[0;32mtry\u001b[0m\u001b[0;34m:\u001b[0m\u001b[0;34m\u001b[0m\u001b[0m\n\u001b[0;32m-> 3030\u001b[0;31m             \u001b[0mval\u001b[0m \u001b[0;34m=\u001b[0m \u001b[0mvalidator\u001b[0m\u001b[0;34m.\u001b[0m\u001b[0mvalidate_coerce\u001b[0m\u001b[0;34m(\u001b[0m\u001b[0mval\u001b[0m\u001b[0;34m)\u001b[0m\u001b[0;34m\u001b[0m\u001b[0m\n\u001b[0m\u001b[1;32m   3031\u001b[0m         \u001b[0;32mexcept\u001b[0m \u001b[0mValueError\u001b[0m \u001b[0;32mas\u001b[0m \u001b[0merr\u001b[0m\u001b[0;34m:\u001b[0m\u001b[0;34m\u001b[0m\u001b[0m\n\u001b[1;32m   3032\u001b[0m             \u001b[0;32mif\u001b[0m \u001b[0mself\u001b[0m\u001b[0;34m.\u001b[0m\u001b[0m_skip_invalid\u001b[0m\u001b[0;34m:\u001b[0m\u001b[0;34m\u001b[0m\u001b[0m\n",
      "\u001b[0;32m~/anaconda3/envs/bioinfo/lib/python3.6/site-packages/_plotly_utils/basevalidators.py\u001b[0m in \u001b[0;36mvalidate_coerce\u001b[0;34m(self, v)\u001b[0m\n\u001b[1;32m    538\u001b[0m             \u001b[0mv\u001b[0m \u001b[0;34m=\u001b[0m \u001b[0mself\u001b[0m\u001b[0;34m.\u001b[0m\u001b[0mperform_replacemenet\u001b[0m\u001b[0;34m(\u001b[0m\u001b[0mv\u001b[0m\u001b[0;34m)\u001b[0m\u001b[0;34m\u001b[0m\u001b[0m\n\u001b[1;32m    539\u001b[0m             \u001b[0;32mif\u001b[0m \u001b[0;32mnot\u001b[0m \u001b[0mself\u001b[0m\u001b[0;34m.\u001b[0m\u001b[0min_values\u001b[0m\u001b[0;34m(\u001b[0m\u001b[0mv\u001b[0m\u001b[0;34m)\u001b[0m\u001b[0;34m:\u001b[0m\u001b[0;34m\u001b[0m\u001b[0m\n\u001b[0;32m--> 540\u001b[0;31m                 \u001b[0mself\u001b[0m\u001b[0;34m.\u001b[0m\u001b[0mraise_invalid_val\u001b[0m\u001b[0;34m(\u001b[0m\u001b[0mv\u001b[0m\u001b[0;34m)\u001b[0m\u001b[0;34m\u001b[0m\u001b[0m\n\u001b[0m\u001b[1;32m    541\u001b[0m         \u001b[0;32mreturn\u001b[0m \u001b[0mv\u001b[0m\u001b[0;34m\u001b[0m\u001b[0m\n\u001b[1;32m    542\u001b[0m \u001b[0;34m\u001b[0m\u001b[0m\n",
      "\u001b[0;32m~/anaconda3/envs/bioinfo/lib/python3.6/site-packages/_plotly_utils/basevalidators.py\u001b[0m in \u001b[0;36mraise_invalid_val\u001b[0;34m(self, v, inds)\u001b[0m\n\u001b[1;32m    252\u001b[0m             \u001b[0mtyp\u001b[0m\u001b[0;34m=\u001b[0m\u001b[0mtype_str\u001b[0m\u001b[0;34m(\u001b[0m\u001b[0mv\u001b[0m\u001b[0;34m)\u001b[0m\u001b[0;34m,\u001b[0m\u001b[0;34m\u001b[0m\u001b[0m\n\u001b[1;32m    253\u001b[0m             \u001b[0mv\u001b[0m\u001b[0;34m=\u001b[0m\u001b[0mrepr\u001b[0m\u001b[0;34m(\u001b[0m\u001b[0mv\u001b[0m\u001b[0;34m)\u001b[0m\u001b[0;34m,\u001b[0m\u001b[0;34m\u001b[0m\u001b[0m\n\u001b[0;32m--> 254\u001b[0;31m             valid_clr_desc=self.description()))\n\u001b[0m\u001b[1;32m    255\u001b[0m \u001b[0;34m\u001b[0m\u001b[0m\n\u001b[1;32m    256\u001b[0m     \u001b[0;32mdef\u001b[0m \u001b[0mraise_invalid_elements\u001b[0m\u001b[0;34m(\u001b[0m\u001b[0mself\u001b[0m\u001b[0;34m,\u001b[0m \u001b[0minvalid_els\u001b[0m\u001b[0;34m)\u001b[0m\u001b[0;34m:\u001b[0m\u001b[0;34m\u001b[0m\u001b[0m\n",
      "\u001b[0;31mValueError\u001b[0m: \n    Invalid value of type 'builtins.str' received for the 'boxpoints' property of box\n        Received value: 'none'\n\n    The 'boxpoints' property is an enumeration that may be specified as:\n      - One of the following enumeration values:\n            ['all', 'outliers', 'suspectedoutliers', False]"
     ]
    }
   ],
   "source": [
    "traces = []\n",
    "for e in range(len(df)):\n",
    "    traces.append(go.Box(\n",
    "        y=df.iloc[e].values,\n",
    "        name=e,\n",
    "        boxpoints='none',\n",
    "        whiskerwidth=0.2,\n",
    "        marker=dict(\n",
    "            size=.1,\n",
    "            color=purd40[int(round(df.iloc[e].mean(), 0))]\n",
    "        ),\n",
    "        line=dict(width=1),\n",
    "    ))\n",
    "\n",
    "layout = go.Layout(\n",
    "    title='Quality Score Distributions',\n",
    "    yaxis=dict(\n",
    "        title='Quality Score',\n",
    "        autorange=True,\n",
    "        showgrid=True,\n",
    "        zeroline=True,\n",
    "        gridcolor='#d9d4d3',\n",
    "        zerolinecolor='#d9d4d3',\n",
    "    ),\n",
    "    xaxis=dict(\n",
    "        title='Base Position',\n",
    "    ),\n",
    "\n",
    "    font=dict(family='Times New Roman', size=16, color='#2e1c18'),\n",
    "    paper_bgcolor='#eCe9e9',\n",
    "    plot_bgcolor='#eCe9e9'\n",
    ")\n",
    "\n",
    "fig = go.Figure(data=traces, layout=layout)\n",
    "py.iplot(fig, filename='quality-scores')\n"
   ]
  },
  {
   "cell_type": "markdown",
   "metadata": {},
   "source": [
    "We now have box plots of the quality of each base for the first 500 sequences. We can see that the quality of the first ten bases is slightly lower and then increases and that the quality drops off after 225 bases. This is normal for our type of data and overall these scores are quite good meaning that we do not need to filter or trim the sequences. If the data was of very poor quality filtering or trimming would be neccessary."
   ]
  },
  {
   "cell_type": "markdown",
   "metadata": {},
   "source": [
    "## 2. Sequence Alignment\n",
    "One of the most important steps in bioinformatics is sequence alignment. Aligning sequences helps us to understand the relationship between two or more sequences, it allows us to identify specific bases or regions that vary between sequences and can be used to discover novel sequences. For the purpose of this notebook we will use the global pariwise aligner from `skbio` this is known to be slow and should be updated soon. If you are aligning more than a few sequences, there are other faster aligners that would be preferrable such as [MAFFT](http://mafft.cbrc.jp/alignment/software/). [QIIME2](https://docs.qiime2.org/2.0.6/) provides a convenient set of tools that wrap aligners such as MAFFT."
   ]
  },
  {
   "cell_type": "markdown",
   "metadata": {},
   "source": [
    "### Align the first two sequences using scikit-bio\n",
    "This is slow, and really only appropriate for educational purposes. In fact scikit-bio will generate a warning to this effect. You can find more information about the scikit-bio aligner in this github [issue](https://github.com/biocore/scikit-bio/issues/254). If you are aligning sequences locally scikit-bio has [optimized algorithms](http://scikit-bio.org/docs/latest/alignment.html#optimized-i-e-production-ready-alignment-algorithms) appropriate for larger scale data."
   ]
  },
  {
   "cell_type": "markdown",
   "metadata": {},
   "source": [
    "Once again we load the sequences using scikit-bio. Here we will only load the first two sequences in order to illustrate pairwise alignment."
   ]
  },
  {
   "cell_type": "code",
   "execution_count": 12,
   "metadata": {},
   "outputs": [],
   "source": [
    "seqs = [DNA(e) for e in itertools.islice(skbio.io.read(f, format='fastq', variant='illumina1.8'), 2)]"
   ]
  },
  {
   "cell_type": "code",
   "execution_count": 13,
   "metadata": {},
   "outputs": [
    {
     "name": "stderr",
     "output_type": "stream",
     "text": [
      "/home/paperspace/anaconda3/envs/bioinfo/lib/python3.6/site-packages/skbio/alignment/_pairwise.py:599: EfficiencyWarning:\n",
      "\n",
      "You're using skbio's python implementation of Needleman-Wunsch alignment. This is known to be very slow (e.g., thousands of times slower than a native C implementation). We'll be adding a faster version soon (see https://github.com/biocore/scikit-bio/issues/254 to track progress on this).\n",
      "\n"
     ]
    },
    {
     "data": {
      "text/plain": [
       "(TabularMSA[DNA]\n",
       " -----------------------------------------------------------------------\n",
       " Stats:\n",
       "     sequence count: 2\n",
       "     position count: 255\n",
       " -----------------------------------------------------------------------\n",
       " CCTGTTTGATCCCCACGCTTTCGTGCCTCAGCG ... ATAAATCCGGATAACGCTTGGATCCTCCG----\n",
       " CCTGTTCGATCCCCACGCTTTCGTGCCTCAGCG ... ATTAAACCGGATAACGCCC---TCCTCCCCACC,\n",
       " 53.0,\n",
       " [(0, 250), (0, 250)])"
      ]
     },
     "execution_count": 13,
     "metadata": {},
     "output_type": "execute_result"
    }
   ],
   "source": [
    "aligned_seqs = global_pairwise_align_nucleotide(seqs[0], seqs[1])\n",
    "aligned_seqs"
   ]
  },
  {
   "cell_type": "markdown",
   "metadata": {},
   "source": [
    "### Align multiple sequences\n",
    "Pairwise alignment is a more simple task than multiple sequence alignment. With multiple sequences each additional sequence changes the overall alignment, meaning it must be constructed progressively with each additional sequence. This can be very computationally expensive. If you do not wish to wait for the alignment to run (or do not wish to install [An Introduction to Bioinformatics](http://readiab.org/), you can leave the following lines commented out and load the pre-aligned sequences."
   ]
  },
  {
   "cell_type": "code",
   "execution_count": 15,
   "metadata": {},
   "outputs": [],
   "source": [
    "# from iab.algorithms import progressive_msa, tree_from_distance_matrix\n",
    "# from functools import partial\n",
    "\n",
    "# f = 'run1_16s/rev_seqs/1AM1JR7QWMSFA.fastq'\n",
    "# seqs = [DNA(e) for e in itertools.islice(skbio.io.read(f, format='fastq', verify=False, variant='illumina1.8'), 10)]\n",
    "# seqs = [e for e in seqs if not e.has_degenerates()]\n",
    "# msa = progressive_msa(seqs, global_pairwise_align_nucleotide)\n",
    "# msa.write('msa10.fna')\n",
    "msa = skbio.alignment.TabularMSA.read('/home/paperspace/data/biology/bioinfo/msa10.fna', constructor=DNA)"
   ]
  },
  {
   "cell_type": "markdown",
   "metadata": {},
   "source": [
    "In order to create a meaningful visualization of the multiple sequence alignment we will use heatmap functionality of plotly.  \n",
    "First we assign a numeric value to each possible character in our alignment, \"A\", \"T\", \"G\", \"C\", and \"-\""
   ]
  },
  {
   "cell_type": "code",
   "execution_count": 16,
   "metadata": {},
   "outputs": [],
   "source": [
    "base_dic = {'A': 1, 'C': .25, 'G': .5, 'T': .75, '-': 0}"
   ]
  },
  {
   "cell_type": "markdown",
   "metadata": {},
   "source": [
    "Next we define a function that takes an alignment and returns two, two-dimensional arrays, one of the characters in the alignment and one of the numeric value that represents the character defined in the dictionary above. The numeric value will be used to define the color in the heatmap. The function below will create an array of the alignment such the only bases that are colored differently are bases that are *different* from the first sequence. This will make identifying differences in sequences much easier. If each based was given a unique color regardless of it's relationship to other sequences the plot would be noisy and difficult to interpret."
   ]
  },
  {
   "cell_type": "code",
   "execution_count": 17,
   "metadata": {},
   "outputs": [],
   "source": [
    "def seq_align_for_plot(msa):\n",
    "    base_text = [list(str(e)) for e in msa]\n",
    "    base_values = np.zeros((len(base_text), len(base_text[0])))\n",
    "    for i in range(len(base_text[0])):\n",
    "        for j in range(len(base_text)):\n",
    "            if base_text[j][i] != base_text[0][i]:\n",
    "                base_values[j][i] = base_dic[base_text[j][i]]\n",
    "    return(base_text, base_values)\n",
    "\n",
    "base_text, base_values = seq_align_for_plot(msa)"
   ]
  },
  {
   "cell_type": "markdown",
   "metadata": {},
   "source": [
    "Define a colorscale where the values for each base is given a defined color"
   ]
  },
  {
   "cell_type": "code",
   "execution_count": 18,
   "metadata": {},
   "outputs": [],
   "source": [
    "colorscale=[[0.00, '#F4F0E4'], \n",
    "            [0.25, '#1b9e77'], \n",
    "            [0.50, '#d95f02'], \n",
    "            [0.75, '#7570b3'],\n",
    "            [1.00, '#e7298a']]"
   ]
  },
  {
   "cell_type": "markdown",
   "metadata": {},
   "source": [
    "Create a list of arbitrary sequences names (The original sequence names were randomly generated and do not have meaning associated with them)."
   ]
  },
  {
   "cell_type": "code",
   "execution_count": 19,
   "metadata": {},
   "outputs": [],
   "source": [
    "seq_names = [\"Seq \" + str(e + 1) for e in range(len(base_text))]"
   ]
  },
  {
   "cell_type": "markdown",
   "metadata": {},
   "source": [
    "Finally we can plot the alignment."
   ]
  },
  {
   "cell_type": "code",
   "execution_count": 32,
   "metadata": {},
   "outputs": [
    {
     "name": "stderr",
     "output_type": "stream",
     "text": [
      "/home/paperspace/anaconda3/envs/bioinfo/lib/python3.6/site-packages/plotly/tools.py:1545: UserWarning:\n",
      "\n",
      "plotly.tools.FigureFactory.create_annotated_heatmap is deprecated. Use plotly.figure_factory.create_annotated_heatmap\n",
      "\n"
     ]
    },
    {
     "ename": "ValueError",
     "evalue": "\n    Invalid value of type 'builtins.str' received for the 'color' property of layout.yaxis.tickfont\n        Received value: '22293B'\n\n    The 'color' property is a color and may be specified as:\n      - A hex string (e.g. '#ff0000')\n      - An rgb/rgba string (e.g. 'rgb(255,0,0)')\n      - An hsl/hsla string (e.g. 'hsl(0,100%,50%)')\n      - An hsv/hsva string (e.g. 'hsv(0,100%,100%)')\n      - A named CSS color:\n            aliceblue, antiquewhite, aqua, aquamarine, azure,\n            beige, bisque, black, blanchedalmond, blue,\n            blueviolet, brown, burlywood, cadetblue,\n            chartreuse, chocolate, coral, cornflowerblue,\n            cornsilk, crimson, cyan, darkblue, darkcyan,\n            darkgoldenrod, darkgray, darkgrey, darkgreen,\n            darkkhaki, darkmagenta, darkolivegreen, darkorange,\n            darkorchid, darkred, darksalmon, darkseagreen,\n            darkslateblue, darkslategray, darkslategrey,\n            darkturquoise, darkviolet, deeppink, deepskyblue,\n            dimgray, dimgrey, dodgerblue, firebrick,\n            floralwhite, forestgreen, fuchsia, gainsboro,\n            ghostwhite, gold, goldenrod, gray, grey, green,\n            greenyellow, honeydew, hotpink, indianred, indigo,\n            ivory, khaki, lavender, lavenderblush, lawngreen,\n            lemonchiffon, lightblue, lightcoral, lightcyan,\n            lightgoldenrodyellow, lightgray, lightgrey,\n            lightgreen, lightpink, lightsalmon, lightseagreen,\n            lightskyblue, lightslategray, lightslategrey,\n            lightsteelblue, lightyellow, lime, limegreen,\n            linen, magenta, maroon, mediumaquamarine,\n            mediumblue, mediumorchid, mediumpurple,\n            mediumseagreen, mediumslateblue, mediumspringgreen,\n            mediumturquoise, mediumvioletred, midnightblue,\n            mintcream, mistyrose, moccasin, navajowhite, navy,\n            oldlace, olive, olivedrab, orange, orangered,\n            orchid, palegoldenrod, palegreen, paleturquoise,\n            palevioletred, papayawhip, peachpuff, peru, pink,\n            plum, powderblue, purple, red, rosybrown,\n            royalblue, saddlebrown, salmon, sandybrown,\n            seagreen, seashell, sienna, silver, skyblue,\n            slateblue, slategray, slategrey, snow, springgreen,\n            steelblue, tan, teal, thistle, tomato, turquoise,\n            violet, wheat, white, whitesmoke, yellow,\n            yellowgreen",
     "output_type": "error",
     "traceback": [
      "\u001b[0;31m---------------------------------------------------------------------------\u001b[0m",
      "\u001b[0;31mValueError\u001b[0m                                Traceback (most recent call last)",
      "\u001b[0;32m<ipython-input-32-040825ab6def>\u001b[0m in \u001b[0;36m<module>\u001b[0;34m\u001b[0m\n\u001b[1;32m     32\u001b[0m     annotations=dict(font=dict(family='Courier New, monospace',\n\u001b[1;32m     33\u001b[0m                                 \u001b[0msize\u001b[0m\u001b[0;34m=\u001b[0m\u001b[0;36m14\u001b[0m\u001b[0;34m,\u001b[0m\u001b[0;34m\u001b[0m\u001b[0m\n\u001b[0;32m---> 34\u001b[0;31m                                 \u001b[0mcolor\u001b[0m\u001b[0;34m=\u001b[0m\u001b[0;34m'#3f566d'\u001b[0m\u001b[0;34m\u001b[0m\u001b[0m\n\u001b[0m\u001b[1;32m     35\u001b[0m                                ),\n\u001b[1;32m     36\u001b[0m                       )\n",
      "\u001b[0;32m~/anaconda3/envs/bioinfo/lib/python3.6/site-packages/plotly/basedatatypes.py\u001b[0m in \u001b[0;36mupdate\u001b[0;34m(self, dict1, **kwargs)\u001b[0m\n\u001b[1;32m   2986\u001b[0m             \u001b[0;32mwith\u001b[0m \u001b[0mself\u001b[0m\u001b[0;34m.\u001b[0m\u001b[0mfigure\u001b[0m\u001b[0;34m.\u001b[0m\u001b[0mbatch_update\u001b[0m\u001b[0;34m(\u001b[0m\u001b[0;34m)\u001b[0m\u001b[0;34m:\u001b[0m\u001b[0;34m\u001b[0m\u001b[0m\n\u001b[1;32m   2987\u001b[0m                 \u001b[0mBaseFigure\u001b[0m\u001b[0;34m.\u001b[0m\u001b[0m_perform_update\u001b[0m\u001b[0;34m(\u001b[0m\u001b[0mself\u001b[0m\u001b[0;34m,\u001b[0m \u001b[0mdict1\u001b[0m\u001b[0;34m)\u001b[0m\u001b[0;34m\u001b[0m\u001b[0m\n\u001b[0;32m-> 2988\u001b[0;31m                 \u001b[0mBaseFigure\u001b[0m\u001b[0;34m.\u001b[0m\u001b[0m_perform_update\u001b[0m\u001b[0;34m(\u001b[0m\u001b[0mself\u001b[0m\u001b[0;34m,\u001b[0m \u001b[0mkwargs\u001b[0m\u001b[0;34m)\u001b[0m\u001b[0;34m\u001b[0m\u001b[0m\n\u001b[0m\u001b[1;32m   2989\u001b[0m         \u001b[0;32melse\u001b[0m\u001b[0;34m:\u001b[0m\u001b[0;34m\u001b[0m\u001b[0m\n\u001b[1;32m   2990\u001b[0m             \u001b[0mBaseFigure\u001b[0m\u001b[0;34m.\u001b[0m\u001b[0m_perform_update\u001b[0m\u001b[0;34m(\u001b[0m\u001b[0mself\u001b[0m\u001b[0;34m,\u001b[0m \u001b[0mdict1\u001b[0m\u001b[0;34m)\u001b[0m\u001b[0;34m\u001b[0m\u001b[0m\n",
      "\u001b[0;32m~/anaconda3/envs/bioinfo/lib/python3.6/site-packages/plotly/basedatatypes.py\u001b[0m in \u001b[0;36m_perform_update\u001b[0;34m(plotly_obj, update_obj)\u001b[0m\n\u001b[1;32m   2244\u001b[0m                     \u001b[0;31m# plotly_obj[key].update(val)\u001b[0m\u001b[0;34m\u001b[0m\u001b[0;34m\u001b[0m\u001b[0m\n\u001b[1;32m   2245\u001b[0m                     BaseFigure._perform_update(\n\u001b[0;32m-> 2246\u001b[0;31m                         plotly_obj[key], val)\n\u001b[0m\u001b[1;32m   2247\u001b[0m                 \u001b[0;32melif\u001b[0m \u001b[0misinstance\u001b[0m\u001b[0;34m(\u001b[0m\u001b[0mvalidator\u001b[0m\u001b[0;34m,\u001b[0m \u001b[0mCompoundArrayValidator\u001b[0m\u001b[0;34m)\u001b[0m\u001b[0;34m:\u001b[0m\u001b[0;34m\u001b[0m\u001b[0m\n\u001b[1;32m   2248\u001b[0m                     \u001b[0;32mif\u001b[0m \u001b[0mplotly_obj\u001b[0m\u001b[0;34m[\u001b[0m\u001b[0mkey\u001b[0m\u001b[0;34m]\u001b[0m\u001b[0;34m:\u001b[0m\u001b[0;34m\u001b[0m\u001b[0m\n",
      "\u001b[0;32m~/anaconda3/envs/bioinfo/lib/python3.6/site-packages/plotly/basedatatypes.py\u001b[0m in \u001b[0;36m_perform_update\u001b[0;34m(plotly_obj, update_obj)\u001b[0m\n\u001b[1;32m   2244\u001b[0m                     \u001b[0;31m# plotly_obj[key].update(val)\u001b[0m\u001b[0;34m\u001b[0m\u001b[0;34m\u001b[0m\u001b[0m\n\u001b[1;32m   2245\u001b[0m                     BaseFigure._perform_update(\n\u001b[0;32m-> 2246\u001b[0;31m                         plotly_obj[key], val)\n\u001b[0m\u001b[1;32m   2247\u001b[0m                 \u001b[0;32melif\u001b[0m \u001b[0misinstance\u001b[0m\u001b[0;34m(\u001b[0m\u001b[0mvalidator\u001b[0m\u001b[0;34m,\u001b[0m \u001b[0mCompoundArrayValidator\u001b[0m\u001b[0;34m)\u001b[0m\u001b[0;34m:\u001b[0m\u001b[0;34m\u001b[0m\u001b[0m\n\u001b[1;32m   2248\u001b[0m                     \u001b[0;32mif\u001b[0m \u001b[0mplotly_obj\u001b[0m\u001b[0;34m[\u001b[0m\u001b[0mkey\u001b[0m\u001b[0;34m]\u001b[0m\u001b[0;34m:\u001b[0m\u001b[0;34m\u001b[0m\u001b[0m\n",
      "\u001b[0;32m~/anaconda3/envs/bioinfo/lib/python3.6/site-packages/plotly/basedatatypes.py\u001b[0m in \u001b[0;36m_perform_update\u001b[0;34m(plotly_obj, update_obj)\u001b[0m\n\u001b[1;32m   2257\u001b[0m                 \u001b[0;32melse\u001b[0m\u001b[0;34m:\u001b[0m\u001b[0;34m\u001b[0m\u001b[0m\n\u001b[1;32m   2258\u001b[0m                     \u001b[0;31m# Assign non-compound value\u001b[0m\u001b[0;34m\u001b[0m\u001b[0;34m\u001b[0m\u001b[0m\n\u001b[0;32m-> 2259\u001b[0;31m                     \u001b[0mplotly_obj\u001b[0m\u001b[0;34m[\u001b[0m\u001b[0mkey\u001b[0m\u001b[0;34m]\u001b[0m \u001b[0;34m=\u001b[0m \u001b[0mval\u001b[0m\u001b[0;34m\u001b[0m\u001b[0m\n\u001b[0m\u001b[1;32m   2260\u001b[0m \u001b[0;34m\u001b[0m\u001b[0m\n\u001b[1;32m   2261\u001b[0m         \u001b[0;32melif\u001b[0m \u001b[0misinstance\u001b[0m\u001b[0;34m(\u001b[0m\u001b[0mplotly_obj\u001b[0m\u001b[0;34m,\u001b[0m \u001b[0mtuple\u001b[0m\u001b[0;34m)\u001b[0m\u001b[0;34m:\u001b[0m\u001b[0;34m\u001b[0m\u001b[0m\n",
      "\u001b[0;32m~/anaconda3/envs/bioinfo/lib/python3.6/site-packages/plotly/basedatatypes.py\u001b[0m in \u001b[0;36m__setitem__\u001b[0;34m(self, prop, value)\u001b[0m\n\u001b[1;32m   2797\u001b[0m             \u001b[0;31m# ### Handle simple property ###\u001b[0m\u001b[0;34m\u001b[0m\u001b[0;34m\u001b[0m\u001b[0m\n\u001b[1;32m   2798\u001b[0m             \u001b[0;32melse\u001b[0m\u001b[0;34m:\u001b[0m\u001b[0;34m\u001b[0m\u001b[0m\n\u001b[0;32m-> 2799\u001b[0;31m                 \u001b[0mself\u001b[0m\u001b[0;34m.\u001b[0m\u001b[0m_set_prop\u001b[0m\u001b[0;34m(\u001b[0m\u001b[0mprop\u001b[0m\u001b[0;34m,\u001b[0m \u001b[0mvalue\u001b[0m\u001b[0;34m)\u001b[0m\u001b[0;34m\u001b[0m\u001b[0m\n\u001b[0m\u001b[1;32m   2800\u001b[0m \u001b[0;34m\u001b[0m\u001b[0m\n\u001b[1;32m   2801\u001b[0m         \u001b[0;31m# Handle non-scalar case\u001b[0m\u001b[0;34m\u001b[0m\u001b[0;34m\u001b[0m\u001b[0m\n",
      "\u001b[0;32m~/anaconda3/envs/bioinfo/lib/python3.6/site-packages/plotly/basedatatypes.py\u001b[0m in \u001b[0;36m_set_prop\u001b[0;34m(self, prop, val)\u001b[0m\n\u001b[1;32m   3033\u001b[0m                 \u001b[0;32mreturn\u001b[0m\u001b[0;34m\u001b[0m\u001b[0m\n\u001b[1;32m   3034\u001b[0m             \u001b[0;32melse\u001b[0m\u001b[0;34m:\u001b[0m\u001b[0;34m\u001b[0m\u001b[0m\n\u001b[0;32m-> 3035\u001b[0;31m                 \u001b[0;32mraise\u001b[0m \u001b[0merr\u001b[0m\u001b[0;34m\u001b[0m\u001b[0m\n\u001b[0m\u001b[1;32m   3036\u001b[0m \u001b[0;34m\u001b[0m\u001b[0m\n\u001b[1;32m   3037\u001b[0m         \u001b[0;31m# val is None\u001b[0m\u001b[0;34m\u001b[0m\u001b[0;34m\u001b[0m\u001b[0m\n",
      "\u001b[0;32m~/anaconda3/envs/bioinfo/lib/python3.6/site-packages/plotly/basedatatypes.py\u001b[0m in \u001b[0;36m_set_prop\u001b[0;34m(self, prop, val)\u001b[0m\n\u001b[1;32m   3028\u001b[0m         \u001b[0mvalidator\u001b[0m \u001b[0;34m=\u001b[0m \u001b[0mself\u001b[0m\u001b[0;34m.\u001b[0m\u001b[0m_validators\u001b[0m\u001b[0;34m.\u001b[0m\u001b[0mget\u001b[0m\u001b[0;34m(\u001b[0m\u001b[0mprop\u001b[0m\u001b[0;34m)\u001b[0m\u001b[0;34m\u001b[0m\u001b[0m\n\u001b[1;32m   3029\u001b[0m         \u001b[0;32mtry\u001b[0m\u001b[0;34m:\u001b[0m\u001b[0;34m\u001b[0m\u001b[0m\n\u001b[0;32m-> 3030\u001b[0;31m             \u001b[0mval\u001b[0m \u001b[0;34m=\u001b[0m \u001b[0mvalidator\u001b[0m\u001b[0;34m.\u001b[0m\u001b[0mvalidate_coerce\u001b[0m\u001b[0;34m(\u001b[0m\u001b[0mval\u001b[0m\u001b[0;34m)\u001b[0m\u001b[0;34m\u001b[0m\u001b[0m\n\u001b[0m\u001b[1;32m   3031\u001b[0m         \u001b[0;32mexcept\u001b[0m \u001b[0mValueError\u001b[0m \u001b[0;32mas\u001b[0m \u001b[0merr\u001b[0m\u001b[0;34m:\u001b[0m\u001b[0;34m\u001b[0m\u001b[0m\n\u001b[1;32m   3032\u001b[0m             \u001b[0;32mif\u001b[0m \u001b[0mself\u001b[0m\u001b[0;34m.\u001b[0m\u001b[0m_skip_invalid\u001b[0m\u001b[0;34m:\u001b[0m\u001b[0;34m\u001b[0m\u001b[0m\n",
      "\u001b[0;32m~/anaconda3/envs/bioinfo/lib/python3.6/site-packages/_plotly_utils/basevalidators.py\u001b[0m in \u001b[0;36mvalidate_coerce\u001b[0;34m(self, v, should_raise)\u001b[0m\n\u001b[1;32m   1126\u001b[0m             \u001b[0mvalidated_v\u001b[0m \u001b[0;34m=\u001b[0m \u001b[0mself\u001b[0m\u001b[0;34m.\u001b[0m\u001b[0mvc_scalar\u001b[0m\u001b[0;34m(\u001b[0m\u001b[0mv\u001b[0m\u001b[0;34m)\u001b[0m\u001b[0;34m\u001b[0m\u001b[0m\n\u001b[1;32m   1127\u001b[0m             \u001b[0;32mif\u001b[0m \u001b[0mvalidated_v\u001b[0m \u001b[0;32mis\u001b[0m \u001b[0;32mNone\u001b[0m \u001b[0;32mand\u001b[0m \u001b[0mshould_raise\u001b[0m\u001b[0;34m:\u001b[0m\u001b[0;34m\u001b[0m\u001b[0m\n\u001b[0;32m-> 1128\u001b[0;31m                 \u001b[0mself\u001b[0m\u001b[0;34m.\u001b[0m\u001b[0mraise_invalid_val\u001b[0m\u001b[0;34m(\u001b[0m\u001b[0mv\u001b[0m\u001b[0;34m)\u001b[0m\u001b[0;34m\u001b[0m\u001b[0m\n\u001b[0m\u001b[1;32m   1129\u001b[0m \u001b[0;34m\u001b[0m\u001b[0m\n\u001b[1;32m   1130\u001b[0m             \u001b[0mv\u001b[0m \u001b[0;34m=\u001b[0m \u001b[0mvalidated_v\u001b[0m\u001b[0;34m\u001b[0m\u001b[0m\n",
      "\u001b[0;32m~/anaconda3/envs/bioinfo/lib/python3.6/site-packages/_plotly_utils/basevalidators.py\u001b[0m in \u001b[0;36mraise_invalid_val\u001b[0;34m(self, v, inds)\u001b[0m\n\u001b[1;32m    252\u001b[0m             \u001b[0mtyp\u001b[0m\u001b[0;34m=\u001b[0m\u001b[0mtype_str\u001b[0m\u001b[0;34m(\u001b[0m\u001b[0mv\u001b[0m\u001b[0;34m)\u001b[0m\u001b[0;34m,\u001b[0m\u001b[0;34m\u001b[0m\u001b[0m\n\u001b[1;32m    253\u001b[0m             \u001b[0mv\u001b[0m\u001b[0;34m=\u001b[0m\u001b[0mrepr\u001b[0m\u001b[0;34m(\u001b[0m\u001b[0mv\u001b[0m\u001b[0;34m)\u001b[0m\u001b[0;34m,\u001b[0m\u001b[0;34m\u001b[0m\u001b[0m\n\u001b[0;32m--> 254\u001b[0;31m             valid_clr_desc=self.description()))\n\u001b[0m\u001b[1;32m    255\u001b[0m \u001b[0;34m\u001b[0m\u001b[0m\n\u001b[1;32m    256\u001b[0m     \u001b[0;32mdef\u001b[0m \u001b[0mraise_invalid_elements\u001b[0m\u001b[0;34m(\u001b[0m\u001b[0mself\u001b[0m\u001b[0;34m,\u001b[0m \u001b[0minvalid_els\u001b[0m\u001b[0;34m)\u001b[0m\u001b[0;34m:\u001b[0m\u001b[0;34m\u001b[0m\u001b[0m\n",
      "\u001b[0;31mValueError\u001b[0m: \n    Invalid value of type 'builtins.str' received for the 'color' property of layout.yaxis.tickfont\n        Received value: '22293B'\n\n    The 'color' property is a color and may be specified as:\n      - A hex string (e.g. '#ff0000')\n      - An rgb/rgba string (e.g. 'rgb(255,0,0)')\n      - An hsl/hsla string (e.g. 'hsl(0,100%,50%)')\n      - An hsv/hsva string (e.g. 'hsv(0,100%,100%)')\n      - A named CSS color:\n            aliceblue, antiquewhite, aqua, aquamarine, azure,\n            beige, bisque, black, blanchedalmond, blue,\n            blueviolet, brown, burlywood, cadetblue,\n            chartreuse, chocolate, coral, cornflowerblue,\n            cornsilk, crimson, cyan, darkblue, darkcyan,\n            darkgoldenrod, darkgray, darkgrey, darkgreen,\n            darkkhaki, darkmagenta, darkolivegreen, darkorange,\n            darkorchid, darkred, darksalmon, darkseagreen,\n            darkslateblue, darkslategray, darkslategrey,\n            darkturquoise, darkviolet, deeppink, deepskyblue,\n            dimgray, dimgrey, dodgerblue, firebrick,\n            floralwhite, forestgreen, fuchsia, gainsboro,\n            ghostwhite, gold, goldenrod, gray, grey, green,\n            greenyellow, honeydew, hotpink, indianred, indigo,\n            ivory, khaki, lavender, lavenderblush, lawngreen,\n            lemonchiffon, lightblue, lightcoral, lightcyan,\n            lightgoldenrodyellow, lightgray, lightgrey,\n            lightgreen, lightpink, lightsalmon, lightseagreen,\n            lightskyblue, lightslategray, lightslategrey,\n            lightsteelblue, lightyellow, lime, limegreen,\n            linen, magenta, maroon, mediumaquamarine,\n            mediumblue, mediumorchid, mediumpurple,\n            mediumseagreen, mediumslateblue, mediumspringgreen,\n            mediumturquoise, mediumvioletred, midnightblue,\n            mintcream, mistyrose, moccasin, navajowhite, navy,\n            oldlace, olive, olivedrab, orange, orangered,\n            orchid, palegoldenrod, palegreen, paleturquoise,\n            palevioletred, papayawhip, peachpuff, peru, pink,\n            plum, powderblue, purple, red, rosybrown,\n            royalblue, saddlebrown, salmon, sandybrown,\n            seagreen, seashell, sienna, silver, skyblue,\n            slateblue, slategray, slategrey, snow, springgreen,\n            steelblue, tan, teal, thistle, tomato, turquoise,\n            violet, wheat, white, whitesmoke, yellow,\n            yellowgreen"
     ]
    }
   ],
   "source": [
    "fig = FF.create_annotated_heatmap(base_values, \n",
    "                                  annotation_text=base_text, \n",
    "                                  colorscale=colorscale)\n",
    "\n",
    "fig['layout'].update(\n",
    "    title=\"Aligned Sequences\",\n",
    "    xaxis=dict(ticks='', \n",
    "               side='top',\n",
    "               ticktext=list(np.arange(0, len(base_text[0]), 10)),\n",
    "               tickvals=list(np.arange(0, len(base_text[0]), 10)),\n",
    "               showticklabels=True,\n",
    "               tickfont=dict(family='Bookman', \n",
    "                             size=18, \n",
    "                             color='#22293B',\n",
    "                            ),\n",
    "              ),\n",
    "    \n",
    "    yaxis=dict(autorange='reversed',\n",
    "               ticks='', \n",
    "               ticksuffix='  ',\n",
    "               ticktext=seq_names,\n",
    "               tickvals=list(np.arange(0, len(base_text))),\n",
    "               showticklabels=True,\n",
    "               tickfont=dict(family='Bookman', \n",
    "                         size=18, \n",
    "                         color='22293B',\n",
    "                            ),\n",
    "              ),\n",
    "    width=10000,\n",
    "    height=450,\n",
    "    autosize=True,\n",
    "    annotations=dict(font=dict(family='Courier New, monospace',\n",
    "                                size=14,\n",
    "                                color='#3f566d'\n",
    "                               ),\n",
    "                      )\n",
    ")\n",
    "iplot(fig, filename='msa')"
   ]
  },
  {
   "cell_type": "markdown",
   "metadata": {},
   "source": [
    "The above plot represents a global multiple sequence alignment. Bases that differ from the first sequence are colored uniquely so that differences can be easily identified. The numbers above the plot represent the position in the alignmment."
   ]
  },
  {
   "cell_type": "markdown",
   "metadata": {
    "collapsed": true
   },
   "source": [
    "## Tree Building"
   ]
  },
  {
   "cell_type": "markdown",
   "metadata": {},
   "source": [
    "Another common task in bionformatics is phylogenetic reconstruction. In order to illustrate this we are going to compare the distance between sequences using hamming distance (the number of absolute differences between a pair of sequences. The scikit-bio implementation gives the ratio of the differences to the length of the sequences. There are many ways to measure distance between two pairs of sequences and any function that takes two arguments and returns a float representing the distance between them may be used."
   ]
  },
  {
   "cell_type": "markdown",
   "metadata": {},
   "source": [
    "Using scikit-bio we first create a distance matrix between all pairs of sequences. Because we are using hamming we will use the already aligned sequences to create our distance matrix. "
   ]
  },
  {
   "cell_type": "code",
   "execution_count": 26,
   "metadata": {},
   "outputs": [],
   "source": [
    "from skbio.sequence.distance import hamming\n",
    "from skbio.stats.distance import DistanceMatrix\n",
    "hamming_dm = DistanceMatrix.from_iterable(msa, metric=hamming, key='id')"
   ]
  },
  {
   "cell_type": "markdown",
   "metadata": {},
   "source": [
    "Now that we have a distance matrix of the sequences we could quickly and easily use the heatmap functionality of plotly to visualize out data."
   ]
  },
  {
   "cell_type": "code",
   "execution_count": 27,
   "metadata": {},
   "outputs": [
    {
     "name": "stderr",
     "output_type": "stream",
     "text": [
      "/home/paperspace/anaconda3/envs/bioinfo/lib/python3.6/site-packages/plotly/graph_objs/_deprecations.py:396: DeprecationWarning:\n",
      "\n",
      "plotly.graph_objs.Margin is deprecated.\n",
      "Please replace it with one of the following more specific types\n",
      "  - plotly.graph_objs.layout.Margin\n",
      "\n",
      "\n"
     ]
    },
    {
     "data": {
      "application/vnd.plotly.v1+json": {
       "data": [
        {
         "colorscale": "Viridis",
         "type": "heatmap",
         "uid": "92178341-82c0-48b9-9b49-7344bcd148bc",
         "x": [
          "Seq 1",
          "Seq 2",
          "Seq 3",
          "Seq 4",
          "Seq 5",
          "Seq 6",
          "Seq 7",
          "Seq 8",
          "Seq 9"
         ],
         "y": [
          "Seq 1",
          "Seq 2",
          "Seq 3",
          "Seq 4",
          "Seq 5",
          "Seq 6",
          "Seq 7",
          "Seq 8",
          "Seq 9"
         ],
         "z": [
          [
           0,
           0.20784313725490197,
           0.21176470588235294,
           0.21176470588235294,
           0.25098039215686274,
           0.27450980392156865,
           0.34901960784313724,
           0.32941176470588235,
           0.3215686274509804
          ],
          [
           0.20784313725490197,
           0,
           0.00392156862745098,
           0.00392156862745098,
           0.23529411764705882,
           0.2627450980392157,
           0.35294117647058826,
           0.3411764705882353,
           0.32941176470588235
          ],
          [
           0.21176470588235294,
           0.00392156862745098,
           0,
           0,
           0.23921568627450981,
           0.25882352941176473,
           0.34901960784313724,
           0.33725490196078434,
           0.3254901960784314
          ],
          [
           0.21176470588235294,
           0.00392156862745098,
           0,
           0,
           0.23921568627450981,
           0.25882352941176473,
           0.34901960784313724,
           0.33725490196078434,
           0.3254901960784314
          ],
          [
           0.25098039215686274,
           0.23529411764705882,
           0.23921568627450981,
           0.23921568627450981,
           0,
           0.2980392156862745,
           0.3333333333333333,
           0.3333333333333333,
           0.3215686274509804
          ],
          [
           0.27450980392156865,
           0.2627450980392157,
           0.25882352941176473,
           0.25882352941176473,
           0.2980392156862745,
           0,
           0.2627450980392157,
           0.26666666666666666,
           0.24313725490196078
          ],
          [
           0.34901960784313724,
           0.35294117647058826,
           0.34901960784313724,
           0.34901960784313724,
           0.3333333333333333,
           0.2627450980392157,
           0,
           0.10588235294117647,
           0.09019607843137255
          ],
          [
           0.32941176470588235,
           0.3411764705882353,
           0.33725490196078434,
           0.33725490196078434,
           0.3333333333333333,
           0.26666666666666666,
           0.10588235294117647,
           0,
           0.08627450980392157
          ],
          [
           0.3215686274509804,
           0.32941176470588235,
           0.3254901960784314,
           0.3254901960784314,
           0.3215686274509804,
           0.24313725490196078,
           0.09019607843137255,
           0.08627450980392157,
           0
          ]
         ]
        }
       ],
       "layout": {
        "autosize": false,
        "height": 700,
        "margin": {
         "b": 200,
         "l": 200,
         "pad": 4
        },
        "width": 700,
        "xaxis": {
         "ticks": ""
        },
        "yaxis": {
         "ticks": "",
         "ticksuffix": "  "
        }
       }
      },
      "text/html": [
       "<div id=\"43b02178-013a-4154-8ae2-063be640e391\" style=\"height: 700px; width: 700px;\" class=\"plotly-graph-div\"></div><script type=\"text/javascript\">require([\"plotly\"], function(Plotly) { window.PLOTLYENV=window.PLOTLYENV || {};window.PLOTLYENV.BASE_URL=\"https://plot.ly\";Plotly.newPlot(\"43b02178-013a-4154-8ae2-063be640e391\", [{\"colorscale\": \"Viridis\", \"x\": [\"Seq 1\", \"Seq 2\", \"Seq 3\", \"Seq 4\", \"Seq 5\", \"Seq 6\", \"Seq 7\", \"Seq 8\", \"Seq 9\"], \"y\": [\"Seq 1\", \"Seq 2\", \"Seq 3\", \"Seq 4\", \"Seq 5\", \"Seq 6\", \"Seq 7\", \"Seq 8\", \"Seq 9\"], \"z\": [[0.0, 0.20784313725490197, 0.21176470588235294, 0.21176470588235294, 0.25098039215686274, 0.27450980392156865, 0.34901960784313724, 0.32941176470588235, 0.3215686274509804], [0.20784313725490197, 0.0, 0.00392156862745098, 0.00392156862745098, 0.23529411764705882, 0.2627450980392157, 0.35294117647058826, 0.3411764705882353, 0.32941176470588235], [0.21176470588235294, 0.00392156862745098, 0.0, 0.0, 0.23921568627450981, 0.25882352941176473, 0.34901960784313724, 0.33725490196078434, 0.3254901960784314], [0.21176470588235294, 0.00392156862745098, 0.0, 0.0, 0.23921568627450981, 0.25882352941176473, 0.34901960784313724, 0.33725490196078434, 0.3254901960784314], [0.25098039215686274, 0.23529411764705882, 0.23921568627450981, 0.23921568627450981, 0.0, 0.2980392156862745, 0.3333333333333333, 0.3333333333333333, 0.3215686274509804], [0.27450980392156865, 0.2627450980392157, 0.25882352941176473, 0.25882352941176473, 0.2980392156862745, 0.0, 0.2627450980392157, 0.26666666666666666, 0.24313725490196078], [0.34901960784313724, 0.35294117647058826, 0.34901960784313724, 0.34901960784313724, 0.3333333333333333, 0.2627450980392157, 0.0, 0.10588235294117647, 0.09019607843137255], [0.32941176470588235, 0.3411764705882353, 0.33725490196078434, 0.33725490196078434, 0.3333333333333333, 0.26666666666666666, 0.10588235294117647, 0.0, 0.08627450980392157], [0.3215686274509804, 0.32941176470588235, 0.3254901960784314, 0.3254901960784314, 0.3215686274509804, 0.24313725490196078, 0.09019607843137255, 0.08627450980392157, 0.0]], \"type\": \"heatmap\", \"uid\": \"92178341-82c0-48b9-9b49-7344bcd148bc\"}], {\"xaxis\": {\"ticks\": \"\"}, \"yaxis\": {\"ticks\": \"\", \"ticksuffix\": \"  \"}, \"margin\": {\"l\": 200, \"b\": 200, \"pad\": 4}, \"width\": 700, \"height\": 700, \"autosize\": false}, {\"showLink\": true, \"linkText\": \"Export to plot.ly\"})});</script>"
      ],
      "text/vnd.plotly.v1+html": [
       "<div id=\"43b02178-013a-4154-8ae2-063be640e391\" style=\"height: 700px; width: 700px;\" class=\"plotly-graph-div\"></div><script type=\"text/javascript\">require([\"plotly\"], function(Plotly) { window.PLOTLYENV=window.PLOTLYENV || {};window.PLOTLYENV.BASE_URL=\"https://plot.ly\";Plotly.newPlot(\"43b02178-013a-4154-8ae2-063be640e391\", [{\"colorscale\": \"Viridis\", \"x\": [\"Seq 1\", \"Seq 2\", \"Seq 3\", \"Seq 4\", \"Seq 5\", \"Seq 6\", \"Seq 7\", \"Seq 8\", \"Seq 9\"], \"y\": [\"Seq 1\", \"Seq 2\", \"Seq 3\", \"Seq 4\", \"Seq 5\", \"Seq 6\", \"Seq 7\", \"Seq 8\", \"Seq 9\"], \"z\": [[0.0, 0.20784313725490197, 0.21176470588235294, 0.21176470588235294, 0.25098039215686274, 0.27450980392156865, 0.34901960784313724, 0.32941176470588235, 0.3215686274509804], [0.20784313725490197, 0.0, 0.00392156862745098, 0.00392156862745098, 0.23529411764705882, 0.2627450980392157, 0.35294117647058826, 0.3411764705882353, 0.32941176470588235], [0.21176470588235294, 0.00392156862745098, 0.0, 0.0, 0.23921568627450981, 0.25882352941176473, 0.34901960784313724, 0.33725490196078434, 0.3254901960784314], [0.21176470588235294, 0.00392156862745098, 0.0, 0.0, 0.23921568627450981, 0.25882352941176473, 0.34901960784313724, 0.33725490196078434, 0.3254901960784314], [0.25098039215686274, 0.23529411764705882, 0.23921568627450981, 0.23921568627450981, 0.0, 0.2980392156862745, 0.3333333333333333, 0.3333333333333333, 0.3215686274509804], [0.27450980392156865, 0.2627450980392157, 0.25882352941176473, 0.25882352941176473, 0.2980392156862745, 0.0, 0.2627450980392157, 0.26666666666666666, 0.24313725490196078], [0.34901960784313724, 0.35294117647058826, 0.34901960784313724, 0.34901960784313724, 0.3333333333333333, 0.2627450980392157, 0.0, 0.10588235294117647, 0.09019607843137255], [0.32941176470588235, 0.3411764705882353, 0.33725490196078434, 0.33725490196078434, 0.3333333333333333, 0.26666666666666666, 0.10588235294117647, 0.0, 0.08627450980392157], [0.3215686274509804, 0.32941176470588235, 0.3254901960784314, 0.3254901960784314, 0.3215686274509804, 0.24313725490196078, 0.09019607843137255, 0.08627450980392157, 0.0]], \"type\": \"heatmap\", \"uid\": \"92178341-82c0-48b9-9b49-7344bcd148bc\"}], {\"xaxis\": {\"ticks\": \"\"}, \"yaxis\": {\"ticks\": \"\", \"ticksuffix\": \"  \"}, \"margin\": {\"l\": 200, \"b\": 200, \"pad\": 4}, \"width\": 700, \"height\": 700, \"autosize\": false}, {\"showLink\": true, \"linkText\": \"Export to plot.ly\"})});</script>"
      ]
     },
     "metadata": {},
     "output_type": "display_data"
    }
   ],
   "source": [
    "colorscale = [[0.0,'#4bd4d1'], [0.5, '#1c9099']]  # custom colorscale\n",
    "['#ece2f0','#a6bddb','#1c9099']\n",
    "trace = go.Heatmap(x=seq_names, y=seq_names, z=hamming_dm.data, colorscale='Viridis')\n",
    "\n",
    "fig = go.Figure(data=[trace])\n",
    "\n",
    "fig['layout'].update(\n",
    "    xaxis=dict(ticks=''),\n",
    "    yaxis=dict(ticks='', ticksuffix='  '),\n",
    "    width=700,\n",
    "    height=700,\n",
    "    autosize=False,\n",
    "    margin=go.Margin(\n",
    "        l=200,\n",
    "        b=200,\n",
    "        pad=4\n",
    "    )\n",
    ")\n",
    "iplot(fig, filename='dm_heatmap')"
   ]
  },
  {
   "cell_type": "markdown",
   "metadata": {},
   "source": [
    "The heat map while visualy appealing does not reveal the structure or our data as well as we might hope. A better representation can be given with a dendrogram."
   ]
  },
  {
   "cell_type": "markdown",
   "metadata": {},
   "source": [
    "### Note: \n",
    "Due to the nature of the distance calculations some of the sequenes were calculated to have a distance of 0 from each other. We can see from the multiple sequence alignment above that there are no sequences that are identical (if they were identical we would want to collapse them into a single tip in the tree). Because we can't have a branch length of 0 we will add a small amount to all of the distances, which will give a visually more accurate tree."
   ]
  },
  {
   "cell_type": "code",
   "execution_count": 28,
   "metadata": {},
   "outputs": [],
   "source": [
    "hamming_array = hamming_dm.data + .001\n",
    "np.fill_diagonal(hamming_array, 0)\n",
    "names = hamming_dm.ids"
   ]
  },
  {
   "cell_type": "markdown",
   "metadata": {},
   "source": [
    "Now we can plot our data using the dendrogram functionality of plotly. The plot below makes the assumption (for illustrative purposes) that all sequences belong to one of two arbitrarily defined groups. In reality the groups may be related to the origin of the sequences (i.e., they came from different samples). We will also color any node that does not lead to a terminal node a different color."
   ]
  },
  {
   "cell_type": "code",
   "execution_count": 29,
   "metadata": {},
   "outputs": [],
   "source": [
    "group1 = ['Seq 1', 'Seq 7', 'Seq 9', 'Seq 3']\n",
    "group2 = ['Seq 2', 'Seq 4', 'Seq 5', 'Seq 6', 'Seq 8']"
   ]
  },
  {
   "cell_type": "code",
   "execution_count": 31,
   "metadata": {},
   "outputs": [
    {
     "data": {
      "application/vnd.plotly.v1+json": {
       "data": [
        {
         "hoverinfo": "text",
         "marker": {
          "color": "#ffbe4f"
         },
         "mode": "lines",
         "type": "scatter",
         "uid": "b4b2df49-bbce-495b-8fd7-f532c27f0bf4",
         "x": [
          0,
          -0.1290291461996549,
          -0.1290291461996549,
          0
         ],
         "xaxis": "x",
         "y": [
          15,
          15,
          25,
          25
         ],
         "yaxis": "y"
        },
        {
         "hoverinfo": "text",
         "marker": {
          "color": "#ffbe4f"
         },
         "mode": "lines",
         "type": "scatter",
         "uid": "c551e402-5725-4b37-800f-71b4392c85f1",
         "x": [
          0,
          -0.153876978679314,
          -0.153876978679314,
          -0.1290291461996549
         ],
         "xaxis": "x",
         "y": [
          5,
          5,
          20,
          20
         ],
         "yaxis": "y"
        },
        {
         "hoverinfo": "text",
         "marker": {
          "color": "#ffbe4f"
         },
         "mode": "lines",
         "type": "scatter",
         "uid": "afcc6de5-9bf7-4a8e-bcaf-26145cd651d0",
         "x": [
          0,
          -0.001414213562373095,
          -0.001414213562373095,
          0
         ],
         "xaxis": "x",
         "y": [
          45,
          45,
          55,
          55
         ],
         "yaxis": "y"
        },
        {
         "hoverinfo": "text",
         "marker": {
          "color": "#ffbe4f"
         },
         "mode": "lines",
         "type": "scatter",
         "uid": "51f2db66-3e54-4a2e-9583-39a879278a21",
         "x": [
          0,
          -0.01249378161358977,
          -0.01249378161358977,
          -0.001414213562373095
         ],
         "xaxis": "x",
         "y": [
          35,
          35,
          50,
          50
         ],
         "yaxis": "y"
        },
        {
         "hoverinfo": "text",
         "marker": {
          "color": "#ffbe4f"
         },
         "mode": "lines",
         "type": "scatter",
         "uid": "77367f7f-1e6b-4da2-8680-104de96cc162",
         "x": [
          0,
          -0.3606438356093366,
          -0.3606438356093366,
          0
         ],
         "xaxis": "x",
         "y": [
          75,
          75,
          85,
          85
         ],
         "yaxis": "y"
        },
        {
         "hoverinfo": "text",
         "marker": {
          "color": "#ffbe4f"
         },
         "mode": "lines",
         "type": "scatter",
         "uid": "71bec777-6cc3-4356-ae76-0a9dfdff9481",
         "x": [
          0,
          -0.4432873257947984,
          -0.4432873257947984,
          -0.3606438356093366
         ],
         "xaxis": "x",
         "y": [
          65,
          65,
          80,
          80
         ],
         "yaxis": "y"
        },
        {
         "hoverinfo": "text",
         "marker": {
          "color": "#0c457d"
         },
         "mode": "lines",
         "type": "scatter",
         "uid": "e2011136-a458-4dbd-aa46-04d41270035e",
         "x": [
          -0.01249378161358977,
          -0.5464290429341561,
          -0.5464290429341561,
          -0.4432873257947984
         ],
         "xaxis": "x",
         "y": [
          42.5,
          42.5,
          72.5,
          72.5
         ],
         "yaxis": "y"
        },
        {
         "hoverinfo": "text",
         "marker": {
          "color": "#0c457d"
         },
         "mode": "lines",
         "type": "scatter",
         "uid": "113876ae-649f-417d-985b-746e91d685b1",
         "x": [
          -0.153876978679314,
          -0.794269460676296,
          -0.794269460676296,
          -0.5464290429341561
         ],
         "xaxis": "x",
         "y": [
          12.5,
          12.5,
          57.5,
          57.5
         ],
         "yaxis": "y"
        }
       ],
       "layout": {
        "autosize": false,
        "height": 700,
        "hovermode": "closest",
        "showlegend": false,
        "width": 500,
        "xaxis": {
         "range": [
          -0.9,
          0.1
         ],
         "rangemode": "tozero",
         "showgrid": false,
         "showline": false,
         "showticklabels": true,
         "tickcolor": "#969696",
         "tickfont": {
          "color": "#969696"
         },
         "ticklen": 8,
         "ticks": "outside",
         "ticktext": [
          "0.0",
          "0.2",
          "0.4",
          "0.6",
          "0.8"
         ],
         "tickvals": [
          -0.8,
          -0.6,
          -0.4,
          -0.2,
          0
         ],
         "tickwidth": 4,
         "type": "linear",
         "zeroline": false
        },
        "yaxis": {
         "mirror": "allticks",
         "rangemode": "tozero",
         "showgrid": false,
         "showline": false,
         "showticklabels": true,
         "side": "right",
         "tickmode": "array",
         "ticks": "",
         "ticktext": [
          "Seq 7",
          "Seq 8",
          "Seq 9",
          "Seq 2",
          "Seq 3",
          "Seq 4",
          "Seq 6",
          "Seq 1",
          "Seq 5"
         ],
         "tickvals": [
          5,
          15,
          25,
          35,
          45,
          55,
          65,
          75,
          85
         ],
         "type": "linear",
         "zeroline": true,
         "zerolinecolor": "#969696",
         "zerolinewidth": 4
        }
       }
      },
      "text/html": [
       "<div id=\"853fe28c-bf62-4e22-bb53-043de005cb76\" style=\"height: 700px; width: 500px;\" class=\"plotly-graph-div\"></div><script type=\"text/javascript\">require([\"plotly\"], function(Plotly) { window.PLOTLYENV=window.PLOTLYENV || {};window.PLOTLYENV.BASE_URL=\"https://plot.ly\";Plotly.newPlot(\"853fe28c-bf62-4e22-bb53-043de005cb76\", [{\"hoverinfo\": \"text\", \"marker\": {\"color\": \"#ffbe4f\"}, \"mode\": \"lines\", \"x\": [-0.0, -0.1290291461996549, -0.1290291461996549, -0.0], \"xaxis\": \"x\", \"y\": [15.0, 15.0, 25.0, 25.0], \"yaxis\": \"y\", \"type\": \"scatter\", \"uid\": \"b4b2df49-bbce-495b-8fd7-f532c27f0bf4\"}, {\"hoverinfo\": \"text\", \"marker\": {\"color\": \"#ffbe4f\"}, \"mode\": \"lines\", \"x\": [-0.0, -0.153876978679314, -0.153876978679314, -0.1290291461996549], \"xaxis\": \"x\", \"y\": [5.0, 5.0, 20.0, 20.0], \"yaxis\": \"y\", \"type\": \"scatter\", \"uid\": \"c551e402-5725-4b37-800f-71b4392c85f1\"}, {\"hoverinfo\": \"text\", \"marker\": {\"color\": \"#ffbe4f\"}, \"mode\": \"lines\", \"x\": [-0.0, -0.001414213562373095, -0.001414213562373095, -0.0], \"xaxis\": \"x\", \"y\": [45.0, 45.0, 55.0, 55.0], \"yaxis\": \"y\", \"type\": \"scatter\", \"uid\": \"afcc6de5-9bf7-4a8e-bcaf-26145cd651d0\"}, {\"hoverinfo\": \"text\", \"marker\": {\"color\": \"#ffbe4f\"}, \"mode\": \"lines\", \"x\": [-0.0, -0.01249378161358977, -0.01249378161358977, -0.001414213562373095], \"xaxis\": \"x\", \"y\": [35.0, 35.0, 50.0, 50.0], \"yaxis\": \"y\", \"type\": \"scatter\", \"uid\": \"51f2db66-3e54-4a2e-9583-39a879278a21\"}, {\"hoverinfo\": \"text\", \"marker\": {\"color\": \"#ffbe4f\"}, \"mode\": \"lines\", \"x\": [-0.0, -0.3606438356093366, -0.3606438356093366, -0.0], \"xaxis\": \"x\", \"y\": [75.0, 75.0, 85.0, 85.0], \"yaxis\": \"y\", \"type\": \"scatter\", \"uid\": \"77367f7f-1e6b-4da2-8680-104de96cc162\"}, {\"hoverinfo\": \"text\", \"marker\": {\"color\": \"#ffbe4f\"}, \"mode\": \"lines\", \"x\": [-0.0, -0.4432873257947984, -0.4432873257947984, -0.3606438356093366], \"xaxis\": \"x\", \"y\": [65.0, 65.0, 80.0, 80.0], \"yaxis\": \"y\", \"type\": \"scatter\", \"uid\": \"71bec777-6cc3-4356-ae76-0a9dfdff9481\"}, {\"hoverinfo\": \"text\", \"marker\": {\"color\": \"#0c457d\"}, \"mode\": \"lines\", \"x\": [-0.01249378161358977, -0.5464290429341561, -0.5464290429341561, -0.4432873257947984], \"xaxis\": \"x\", \"y\": [42.5, 42.5, 72.5, 72.5], \"yaxis\": \"y\", \"type\": \"scatter\", \"uid\": \"e2011136-a458-4dbd-aa46-04d41270035e\"}, {\"hoverinfo\": \"text\", \"marker\": {\"color\": \"#0c457d\"}, \"mode\": \"lines\", \"x\": [-0.153876978679314, -0.794269460676296, -0.794269460676296, -0.5464290429341561], \"xaxis\": \"x\", \"y\": [12.5, 12.5, 57.5, 57.5], \"yaxis\": \"y\", \"type\": \"scatter\", \"uid\": \"113876ae-649f-417d-985b-746e91d685b1\"}], {\"autosize\": false, \"height\": 700, \"hovermode\": \"closest\", \"showlegend\": false, \"width\": 500, \"xaxis\": {\"rangemode\": \"tozero\", \"showgrid\": false, \"showline\": false, \"showticklabels\": true, \"ticks\": \"outside\", \"type\": \"linear\", \"zeroline\": false, \"tickfont\": {\"color\": \"#969696\"}, \"ticktext\": [\"0.0\", \"0.2\", \"0.4\", \"0.6\", \"0.8\"], \"tickvals\": [-0.8, -0.6, -0.4, -0.2, -0.0], \"ticklen\": 8, \"tickwidth\": 4, \"tickcolor\": \"#969696\", \"range\": [-0.9, 0.1]}, \"yaxis\": {\"mirror\": \"allticks\", \"rangemode\": \"tozero\", \"showgrid\": false, \"showline\": false, \"showticklabels\": true, \"tickmode\": \"array\", \"ticks\": \"\", \"ticktext\": [\"Seq 7\", \"Seq 8\", \"Seq 9\", \"Seq 2\", \"Seq 3\", \"Seq 4\", \"Seq 6\", \"Seq 1\", \"Seq 5\"], \"tickvals\": [5.0, 15.0, 25.0, 35.0, 45.0, 55.0, 65.0, 75.0, 85.0], \"type\": \"linear\", \"zeroline\": true, \"side\": \"right\", \"zerolinewidth\": 4, \"zerolinecolor\": \"#969696\"}}, {\"showLink\": true, \"linkText\": \"Export to plot.ly\"})});</script>"
      ],
      "text/vnd.plotly.v1+html": [
       "<div id=\"853fe28c-bf62-4e22-bb53-043de005cb76\" style=\"height: 700px; width: 500px;\" class=\"plotly-graph-div\"></div><script type=\"text/javascript\">require([\"plotly\"], function(Plotly) { window.PLOTLYENV=window.PLOTLYENV || {};window.PLOTLYENV.BASE_URL=\"https://plot.ly\";Plotly.newPlot(\"853fe28c-bf62-4e22-bb53-043de005cb76\", [{\"hoverinfo\": \"text\", \"marker\": {\"color\": \"#ffbe4f\"}, \"mode\": \"lines\", \"x\": [-0.0, -0.1290291461996549, -0.1290291461996549, -0.0], \"xaxis\": \"x\", \"y\": [15.0, 15.0, 25.0, 25.0], \"yaxis\": \"y\", \"type\": \"scatter\", \"uid\": \"b4b2df49-bbce-495b-8fd7-f532c27f0bf4\"}, {\"hoverinfo\": \"text\", \"marker\": {\"color\": \"#ffbe4f\"}, \"mode\": \"lines\", \"x\": [-0.0, -0.153876978679314, -0.153876978679314, -0.1290291461996549], \"xaxis\": \"x\", \"y\": [5.0, 5.0, 20.0, 20.0], \"yaxis\": \"y\", \"type\": \"scatter\", \"uid\": \"c551e402-5725-4b37-800f-71b4392c85f1\"}, {\"hoverinfo\": \"text\", \"marker\": {\"color\": \"#ffbe4f\"}, \"mode\": \"lines\", \"x\": [-0.0, -0.001414213562373095, -0.001414213562373095, -0.0], \"xaxis\": \"x\", \"y\": [45.0, 45.0, 55.0, 55.0], \"yaxis\": \"y\", \"type\": \"scatter\", \"uid\": \"afcc6de5-9bf7-4a8e-bcaf-26145cd651d0\"}, {\"hoverinfo\": \"text\", \"marker\": {\"color\": \"#ffbe4f\"}, \"mode\": \"lines\", \"x\": [-0.0, -0.01249378161358977, -0.01249378161358977, -0.001414213562373095], \"xaxis\": \"x\", \"y\": [35.0, 35.0, 50.0, 50.0], \"yaxis\": \"y\", \"type\": \"scatter\", \"uid\": \"51f2db66-3e54-4a2e-9583-39a879278a21\"}, {\"hoverinfo\": \"text\", \"marker\": {\"color\": \"#ffbe4f\"}, \"mode\": \"lines\", \"x\": [-0.0, -0.3606438356093366, -0.3606438356093366, -0.0], \"xaxis\": \"x\", \"y\": [75.0, 75.0, 85.0, 85.0], \"yaxis\": \"y\", \"type\": \"scatter\", \"uid\": \"77367f7f-1e6b-4da2-8680-104de96cc162\"}, {\"hoverinfo\": \"text\", \"marker\": {\"color\": \"#ffbe4f\"}, \"mode\": \"lines\", \"x\": [-0.0, -0.4432873257947984, -0.4432873257947984, -0.3606438356093366], \"xaxis\": \"x\", \"y\": [65.0, 65.0, 80.0, 80.0], \"yaxis\": \"y\", \"type\": \"scatter\", \"uid\": \"71bec777-6cc3-4356-ae76-0a9dfdff9481\"}, {\"hoverinfo\": \"text\", \"marker\": {\"color\": \"#0c457d\"}, \"mode\": \"lines\", \"x\": [-0.01249378161358977, -0.5464290429341561, -0.5464290429341561, -0.4432873257947984], \"xaxis\": \"x\", \"y\": [42.5, 42.5, 72.5, 72.5], \"yaxis\": \"y\", \"type\": \"scatter\", \"uid\": \"e2011136-a458-4dbd-aa46-04d41270035e\"}, {\"hoverinfo\": \"text\", \"marker\": {\"color\": \"#0c457d\"}, \"mode\": \"lines\", \"x\": [-0.153876978679314, -0.794269460676296, -0.794269460676296, -0.5464290429341561], \"xaxis\": \"x\", \"y\": [12.5, 12.5, 57.5, 57.5], \"yaxis\": \"y\", \"type\": \"scatter\", \"uid\": \"113876ae-649f-417d-985b-746e91d685b1\"}], {\"autosize\": false, \"height\": 700, \"hovermode\": \"closest\", \"showlegend\": false, \"width\": 500, \"xaxis\": {\"rangemode\": \"tozero\", \"showgrid\": false, \"showline\": false, \"showticklabels\": true, \"ticks\": \"outside\", \"type\": \"linear\", \"zeroline\": false, \"tickfont\": {\"color\": \"#969696\"}, \"ticktext\": [\"0.0\", \"0.2\", \"0.4\", \"0.6\", \"0.8\"], \"tickvals\": [-0.8, -0.6, -0.4, -0.2, -0.0], \"ticklen\": 8, \"tickwidth\": 4, \"tickcolor\": \"#969696\", \"range\": [-0.9, 0.1]}, \"yaxis\": {\"mirror\": \"allticks\", \"rangemode\": \"tozero\", \"showgrid\": false, \"showline\": false, \"showticklabels\": true, \"tickmode\": \"array\", \"ticks\": \"\", \"ticktext\": [\"Seq 7\", \"Seq 8\", \"Seq 9\", \"Seq 2\", \"Seq 3\", \"Seq 4\", \"Seq 6\", \"Seq 1\", \"Seq 5\"], \"tickvals\": [5.0, 15.0, 25.0, 35.0, 45.0, 55.0, 65.0, 75.0, 85.0], \"type\": \"linear\", \"zeroline\": true, \"side\": \"right\", \"zerolinewidth\": 4, \"zerolinecolor\": \"#969696\"}}, {\"showLink\": true, \"linkText\": \"Export to plot.ly\"})});</script>"
      ]
     },
     "metadata": {},
     "output_type": "display_data"
    }
   ],
   "source": [
    "names = [\"Seq \" + str(e + 1) for e in range(len(hamming_array))]\n",
    "fig = FF.create_dendrogram(hamming_array.data, \n",
    "                           orientation='right',\n",
    "                           labels=names)\n",
    "\n",
    "\n",
    "fig['layout'].update(\n",
    "    width=500,\n",
    "    height=700,                     \n",
    ")\n",
    "\n",
    "fig['layout']['yaxis'].update(dict(side='right', \n",
    "                                   showline=False,\n",
    "                                   ticks='',\n",
    "                                   zeroline=True,\n",
    "                                   zerolinewidth=4,\n",
    "                                   zerolinecolor='#969696')\n",
    "                              )\n",
    "\n",
    "fig['layout']['xaxis'].update(dict(showline=False,\n",
    "                                   showticklabels=True,\n",
    "                                   ticktext=np.array(['0.0', '0.2', '0.4', '0.6', '0.8']),\n",
    "                                   tickvals=[-0.8, -0.6, -0.4, -0.2, -0.0],\n",
    "                                   tickfont=dict(color='#969696'),\n",
    "                                   mirror=None,\n",
    "                                   ticklen=8,\n",
    "                                   tickwidth=4,\n",
    "                                   tickcolor='#969696',\n",
    "                                   range=[-0.9, 0.1])\n",
    "                             )\n",
    "tips = []\n",
    "for i in fig['data']:\n",
    "    if 0 in i['x']:\n",
    "        i['marker']['color'] = '#ffbe4f'\n",
    "    else:\n",
    "        i['marker']['color'] = '#0c457d'\n",
    "\n",
    "for i in range(len(names)):\n",
    "    if fig['layout']['yaxis']['ticktext'][i] in group1:\n",
    "        color = '#e8702a'\n",
    "        symbol = 'circle'\n",
    "    else:\n",
    "        color = '#0ea7b5'\n",
    "        symbol = 'triangle-left'\n",
    "        \n",
    "    x = [-0.0]\n",
    "    y = [fig['layout']['yaxis']['tickvals'][i]]\n",
    "    trace = go.Scatter(x=x, y=y, \n",
    "                       mode='markers',\n",
    "                       marker=dict(\n",
    "                            size=10,\n",
    "                            color=color,\n",
    "                            symbol=symbol)\n",
    "                      )\n",
    "    list(fig['data']).append(trace)\n",
    "\n",
    "iplot(fig, filename='phylo-dendrogram')"
   ]
  },
  {
   "cell_type": "markdown",
   "metadata": {},
   "source": [
    "The above plot gives a much better interpretation of the relationship between pairs and groups of sequences when compared to the heatmap. Being able to quickly identify groups of sequences also helps to determine the structure of our data set. "
   ]
  }
 ],
 "metadata": {
  "kernelspec": {
   "display_name": "Python [conda env:bioinfo]",
   "language": "python",
   "name": "conda-env-bioinfo-py"
  },
  "language_info": {
   "codemirror_mode": {
    "name": "ipython",
    "version": 3
   },
   "file_extension": ".py",
   "mimetype": "text/x-python",
   "name": "python",
   "nbconvert_exporter": "python",
   "pygments_lexer": "ipython3",
   "version": "3.6.6"
  }
 },
 "nbformat": 4,
 "nbformat_minor": 1
}
