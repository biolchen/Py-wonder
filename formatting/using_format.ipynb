{
 "cells": [
  {
   "cell_type": "code",
   "execution_count": 5,
   "metadata": {},
   "outputs": [
    {
     "name": "stdout",
     "output_type": "stream",
     "text": [
      "The book is called Learning Python,      and it was released on November 2016.      It is 342 pages long with 14 chapters.\n"
     ]
    }
   ],
   "source": [
    "book_info = { 'title': 'Learning Python',\n",
    "            'pages': 342,\n",
    "            'pub_date': 'November 2016',\n",
    "            'chapters': 14,\n",
    "}\n",
    "print(\"The book is called %(title)s,\\\n",
    "      and it was released on %(pub_date)s.\\\n",
    "      It is %(pages)d pages long with %(chapters)d chapters.\"\n",
    "      % book_info)"
   ]
  },
  {
   "cell_type": "code",
   "execution_count": null,
   "metadata": {},
   "outputs": [
    {
     "name": "stdout",
     "output_type": "stream",
     "text": [
      "What is the population of New Zealand ?\n",
      "Please enter value from : 6.7 5.1 4.5 3.2\n",
      "6.7\n",
      "That is not the answer I had in mind!\n",
      "\n",
      "So far, you answered correctly to 0 questions and incorrectly to 1. Good luck!\n",
      "What year did the first european set foot on New Zealand Abel Tasman ?\n",
      "Please enter value from : 1830 1765 1543 1642\n",
      "13\n",
      "Please enter value from : 1830 1765 1543 1642\n",
      "1830\n",
      "That is not the answer I had in mind!\n",
      "\n",
      "So far, you answered correctly to 0 questions and incorrectly to 2. Good luck!\n",
      "How many Kiwi are there left in New Zealand Approx ?\n",
      "Please enter value from : 100000 600 70,000 2000\n"
     ]
    }
   ],
   "source": [
    "from random import shuffle\n",
    "\n",
    "question_list = [  # tuple of the form (question, dict of answers)\n",
    "    ('What is the population of New Zealand ?',\n",
    "    {'6.7': False, '3.2': False, '5.1': False, '4.5': True}),\n",
    "\n",
    "    ('What year did the first european set foot on New Zealand Abel Tasman ?',\n",
    "    {'1830': False, '1543': False, '1765': False, '1642': True}),\n",
    "\n",
    "    ('How many Kiwi are there left in New Zealand Approx ?',\n",
    "    {'2000': False, '600': False,  '70,000': False, '100000': False, '100000': True}),\n",
    "\n",
    "    ('How many new babys where born in New Zealand in 2015 ?',\n",
    "    {'61,000': False, '208,000': False, '98,000': False, '18,000': True}),\n",
    "]\n",
    "\n",
    "\n",
    "def get_input_in_list(lst):\n",
    "    while True:\n",
    "        print(\"Please enter value from : \" + \" \".join(lst))\n",
    "        user_input = input()\n",
    "        if user_input in lst:\n",
    "            return user_input\n",
    "\n",
    "\n",
    "def questions():\n",
    "    wrong = 0\n",
    "    right = 0\n",
    "\n",
    "    for each_question, answer_dict in question_list:\n",
    "        answers = list(answer_dict)\n",
    "        shuffle(answers)\n",
    "        print(each_question)\n",
    "        user_answer = get_input_in_list(answers) \n",
    "\n",
    "        if answer_dict[user_answer]:\n",
    "            print('Your answer is correct!\\n')\n",
    "            right += 1\n",
    "        else:\n",
    "            print('That is not the answer I had in mind!\\n')\n",
    "            wrong += 1\n",
    "        print('So far, you answered correctly to {0} questions and incorrectly to {1}. Good luck!'.format(right, wrong))\n",
    "\n",
    "\n",
    "if __name__ == '__main__':\n",
    "    questions()"
   ]
  },
  {
   "cell_type": "code",
   "execution_count": null,
   "metadata": {},
   "outputs": [],
   "source": []
  }
 ],
 "metadata": {
  "kernelspec": {
   "display_name": "Python [default]",
   "language": "python",
   "name": "python3"
  },
  "language_info": {
   "codemirror_mode": {
    "name": "ipython",
    "version": 3
   },
   "file_extension": ".py",
   "mimetype": "text/x-python",
   "name": "python",
   "nbconvert_exporter": "python",
   "pygments_lexer": "ipython3",
   "version": "3.5.6"
  },
  "varInspector": {
   "cols": {
    "lenName": 16,
    "lenType": 16,
    "lenVar": 40
   },
   "kernels_config": {
    "python": {
     "delete_cmd_postfix": "",
     "delete_cmd_prefix": "del ",
     "library": "var_list.py",
     "varRefreshCmd": "print(var_dic_list())"
    },
    "r": {
     "delete_cmd_postfix": ") ",
     "delete_cmd_prefix": "rm(",
     "library": "var_list.r",
     "varRefreshCmd": "cat(var_dic_list()) "
    }
   },
   "types_to_exclude": [
    "module",
    "function",
    "builtin_function_or_method",
    "instance",
    "_Feature"
   ],
   "window_display": false
  }
 },
 "nbformat": 4,
 "nbformat_minor": 2
}
